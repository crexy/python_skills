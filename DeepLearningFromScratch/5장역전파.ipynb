{
 "cells": [
  {
   "cell_type": "code",
   "execution_count": 1,
   "metadata": {},
   "outputs": [],
   "source": [
    "import numpy as np"
   ]
  },
  {
   "cell_type": "code",
   "execution_count": 2,
   "metadata": {},
   "outputs": [],
   "source": [
    "class MulLayer:\n",
    "    def __init__(self):\n",
    "        self.x = None\n",
    "        self.y = None\n",
    "    def forward(self, x, y):\n",
    "        self.x = x\n",
    "        self.y = y\n",
    "        return x*y\n",
    "    def backward(self, dout):\n",
    "        dx = self.y*dout\n",
    "        dy = self.x*dout\n",
    "        return dx, dy"
   ]
  },
  {
   "cell_type": "code",
   "execution_count": 3,
   "metadata": {},
   "outputs": [
    {
     "name": "stdout",
     "output_type": "stream",
     "text": [
      "Total Price: 220.00000000000003\n",
      "Differential of sum_price: 1.1\n",
      "Differential of dtax_rate: 200\n",
      "Differential of apple_price: 2.2\n",
      "Differential of apple_count: 110.00000000000001\n"
     ]
    }
   ],
   "source": [
    "apple_price = 100\n",
    "apple_count = 2\n",
    "tax_rate = 1.1\n",
    "\n",
    "apple_layer = MulLayer()\n",
    "tax_layer = MulLayer()\n",
    "\n",
    "sum_price = apple_layer.forward(apple_price, apple_count)\n",
    "total_price = tax_layer.forward(sum_price, tax_rate)\n",
    "print(f'Total Price: {total_price}')\n",
    "\n",
    "dsum_price, dtax_rate = tax_layer.backward(1)\n",
    "print(f'Differential of sum_price: {dsum_price}')\n",
    "print(f'Differential of dtax_rate: {dtax_rate}')\n",
    "dapple_price, dapple_count = apple_layer.backward(dsum_price)\n",
    "print(f'Differential of apple_price: {dapple_price}')\n",
    "print(f'Differential of apple_count: {dapple_count}')"
   ]
  },
  {
   "cell_type": "code",
   "execution_count": 4,
   "metadata": {},
   "outputs": [],
   "source": [
    "# 덧셈 레이어\n",
    "class AddLayer:\n",
    "    def __init__(self):\n",
    "        pass\n",
    "    def forward(self, x, y):\n",
    "        out = x+y\n",
    "        return out\n",
    "    def backward(self, dout):\n",
    "        dx = dout*1\n",
    "        dy = dout*1\n",
    "        return dx, dy"
   ]
  },
  {
   "cell_type": "code",
   "execution_count": 6,
   "metadata": {},
   "outputs": [],
   "source": [
    "# Relu 활성화 함수 레이어\n",
    "class Relu:\n",
    "    def __init__(self):\n",
    "        self.mask = None\n",
    "    def forward(self, x):\n",
    "        self.mask = x <= 0\n",
    "        out = x.copy()\n",
    "        out[self.mask] = 0\n",
    "        return out\n",
    "    def backward(self, dout):\n",
    "        # dout 는 배열\n",
    "        # if dout > 0:\n",
    "        #     return dout\n",
    "        # return 0\n",
    "\n",
    "        # 미분 값이 1이라는 것은 입력 받은것을 그대로 전달한다는 것을 의미, 덧셈 레이어도 입력값이 1을 곱해 그대로 전달해줌\n",
    "        # 렐루에서 입력 값이 0보다 크면 미분값이 1, 작거나 같으면 0 즉 0보다 크면 값을 그대로 전달\n",
    "        dx = dout[self.mask] = 0\n",
    "        return dx\n"
   ]
  },
  {
   "cell_type": "code",
   "execution_count": 1,
   "metadata": {},
   "outputs": [],
   "source": [
    "# Sigmoid 활성화 함수 레이어\n",
    "class Sigmoid:\n",
    "    def __init__(self):\n",
    "        self.out = None\n",
    "    def forward(self, x):\n",
    "        y = 1/(1+np.exp(-x))\n",
    "        self.out = y\n",
    "        return y\n",
    "    def backward(self, dout):\n",
    "        out = dout*self.out(1.0-self.out)\n",
    "        return out\n"
   ]
  },
  {
   "cell_type": "code",
   "execution_count": null,
   "metadata": {},
   "outputs": [],
   "source": [
    "# Affine(행렬의 내적)\n",
    "class Affine:\n",
    "    def __init__(self, W, B):\n",
    "        self.W = W\n",
    "        self.B = B\n",
    "        self.dW = None # 가중치의 미분(기울기)        \n",
    "        self.dB = None # 편향의 미분\n",
    "    def forward(self, X, W, B):\n",
    "        self.X = X\n",
    "        self.W = W\n",
    "        self.B = B\n",
    "        return np.dot(X,W)+B\n",
    "    def backward(self, dout):\n",
    "        # 예 X(2,3), W(3,2), B(2) 형태의 경우\n",
    "        # 순전파로 결과가(2,2)가됨\n",
    "        # 역전파의 경우\n",
    "        # 전달값(L)이 (2,2)임으로 편향(2) 형태로 저장하기 위해서는 sum(axis=0) 수행해야함\n",
    "        # X의 미분(dX)이 (2,3) 형태를 유지하기 위해서는 (L(2,2) dot W.T(2,3)) 순서로 내적해야함\n",
    "        # W의 미분(dW)이 (3,2) 현태를 유지하기 위해서는 (X.T(3,2) dot L(2,2)) 순서로 내적해야함\n",
    "        self.dB = np.sum(dout, axis=0)\n",
    "        dX = np.dot(dout, self.W.T)\n",
    "        self.dW = np.dot(dX, dout)\n",
    "        return dX"
   ]
  }
 ],
 "metadata": {
  "kernelspec": {
   "display_name": "Python 3.9.7 ('rfBasic')",
   "language": "python",
   "name": "python3"
  },
  "language_info": {
   "codemirror_mode": {
    "name": "ipython",
    "version": 3
   },
   "file_extension": ".py",
   "mimetype": "text/x-python",
   "name": "python",
   "nbconvert_exporter": "python",
   "pygments_lexer": "ipython3",
   "version": "3.9.7"
  },
  "orig_nbformat": 4,
  "vscode": {
   "interpreter": {
    "hash": "95d65aac4a209d7f6f477bff3bf0d30402813baf4a07fcd4786092f0b3bc81ae"
   }
  }
 },
 "nbformat": 4,
 "nbformat_minor": 2
}
