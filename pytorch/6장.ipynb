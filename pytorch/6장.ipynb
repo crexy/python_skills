{
 "cells": [
  {
   "cell_type": "markdown",
   "metadata": {},
   "source": [
    "### 6.합성곱 신경망"
   ]
  },
  {
   "cell_type": "markdown",
   "metadata": {},
   "source": [
    "#### 6.2 AlexNet"
   ]
  },
  {
   "cell_type": "code",
   "execution_count": 1,
   "metadata": {},
   "outputs": [],
   "source": [
    "# 라이브러리 로드\n",
    "import torch\n",
    "import torchvision\n",
    "import torchvision.transforms as tr\n",
    "from torch.utils.data import DataLoader\n",
    "import torch.nn as nn\n",
    "import torch.nn.functional as F\n",
    "import torch.optim as optim\n",
    "import matplotlib.pyplot as plt\n",
    "import numpy as np"
   ]
  },
  {
   "cell_type": "code",
   "execution_count": 2,
   "metadata": {},
   "outputs": [
    {
     "name": "stdout",
     "output_type": "stream",
     "text": [
      "Files already downloaded and verified\n",
      "Files already downloaded and verified\n"
     ]
    }
   ],
   "source": [
    "# CIFAR10 데이터 셋 로드\n",
    "# tr.Normalize((평균), (표준편차)) -> Z점수 정규화 수행 -> (X - 평균)/표준편차\n",
    "transform = tr.Compose([tr.ToTensor(), tr.Normalize((0.5, 0.5, 0.5), (0.5, 0.5, 0.5))]) \n",
    "trainset = torchvision.datasets.CIFAR10(root=\"./data\", train=True, download=True, transform=transform)\n",
    "trainloader = DataLoader(trainset, batch_size=32, shuffle=True)\n",
    "testset = torchvision.datasets.CIFAR10(root=\"./data\", train=False, download=True, transform=transform)\n",
    "testloader = DataLoader(testset, batch_size=32, shuffle=False)"
   ]
  },
  {
   "cell_type": "code",
   "execution_count": 3,
   "metadata": {},
   "outputs": [
    {
     "name": "stderr",
     "output_type": "stream",
     "text": [
      "Clipping input data to the valid range for imshow with RGB data ([0..1] for floats or [0..255] for integers).\n"
     ]
    },
    {
     "data": {
      "text/plain": [
       "<matplotlib.image.AxesImage at 0x1ff000defd0>"
      ]
     },
     "execution_count": 3,
     "metadata": {},
     "output_type": "execute_result"
    },
    {
     "data": {
      "image/png": "[encoded data removed]",
      "text/plain": [
       "<Figure size 432x288 with 1 Axes>"
      ]
     },
     "metadata": {
      "needs_background": "light"
     },
     "output_type": "display_data"
    }
   ],
   "source": [
    "# 이미지 확인\n",
    "img = trainset[0][0].permute(1,2,0).numpy()\n",
    "plt.imshow(img)"
   ]
  },
  {
   "cell_type": "code",
   "execution_count": 4,
   "metadata": {},
   "outputs": [
    {
     "name": "stdout",
     "output_type": "stream",
     "text": [
      "cuda:0 is available.\n"
     ]
    }
   ],
   "source": [
    "# GPU 연산 체크하기\n",
    "device = torch.device(\"cuda:0\" if torch.cuda.is_available() else \"cpu\")\n",
    "print(f\"{device} is available.\")"
   ]
  },
  {
   "cell_type": "code",
   "execution_count": 5,
   "metadata": {},
   "outputs": [
    {
     "name": "stdout",
     "output_type": "stream",
     "text": [
      "acd"
     ]
    }
   ],
   "source": [
    "# 클래스 상속관한 팁\n",
    "class A:\n",
    "    def __init__(self):\n",
    "        print(\"a\", end='')\n",
    "\n",
    "class B(A):\n",
    "    def __init__(self):\n",
    "        super(B, self).__init__()\n",
    "        print(\"b\", end='')\n",
    "\n",
    "class C(B):\n",
    "    def __init__(self):\n",
    "        super(B, self).__init__() # super(클래스이름, self) => 명시된 클래스이름의 부모부터 탐색(상속) 함, 즉 super(B, self) 는 B의 부모 즉 A클래스의 속성 및 메소드를 사용한다는 의미 그래스 출력에서 b를 건너뛴 acd만 출력!\n",
    "        print(\"c\", end='')\n",
    "\n",
    "class D(C):\n",
    "    def __init__(self):\n",
    "        super(D, self).__init__()\n",
    "        print(\"d\", end='')\n",
    "\n",
    "d = D()"
   ]
  },
  {
   "cell_type": "code",
   "execution_count": 6,
   "metadata": {},
   "outputs": [],
   "source": [
    "# AlexNet 구축하기\n",
    "class AlexNet(nn.Module):\n",
    "    def __init__(self):\n",
    "        super(AlexNet, self).__init__() #super().__init__()이라는 코드가 다른 클래스의 속성 및 메소드를 자동으로 불러와 해당 클래스에서도 사용이 가능\n",
    "        self.features = nn.Sequential(\n",
    "            nn.Conv2d(3, 64, 3), nn.ReLU(),  # nn.Conv2d(입력채널: 3, 출력채널: 64, 필터크기: 3 ->3x3)\n",
    "            nn.MaxPool2d(2,2),\n",
    "            # 이전층의 출력채널 수: 64, 다음층의 입력채널 수: 64 는 맞춰줘야 함\n",
    "            nn.Conv2d(64, 192, 3, padding=1), nn.ReLU(),  # padding=1 해당층의 feature 맵의 외각을 0으로 둘러쌈, ex) feature 크기 29x29 -> 31x31\n",
    "            nn.MaxPool2d(2,2), # nn.MaxPool2d(필터크기: 2 -> 2x2, 보폭: 2)\n",
    "            nn.Conv2d(192, 384, 3, padding=1), nn.ReLU(),\n",
    "            nn.Conv2d(384, 256, 3, padding=1), nn.ReLU(),\n",
    "            nn.Conv2d(256, 256, 1), nn.ReLU(),\n",
    "            nn.MaxPool2d(2,2))\n",
    "        self.classifier = nn.Sequential(\n",
    "            nn.Dropout(0.5),\n",
    "            nn.Linear(256*3*3, 1024), nn.ReLU(),\n",
    "            nn.Dropout(0.5),\n",
    "            nn.Linear(1024, 512), nn.ReLU(),\n",
    "            nn.Linear(512, 10))\n",
    "    def forward(self, x):\n",
    "        x = self.features(x)\n",
    "        #print(\"conv out shape: \")\n",
    "        #print(x.size())\n",
    "        x = x.view(-1, 256*3*3)\n",
    "        x = self.classifier(x)\n",
    "        return x"
   ]
  },
  {
   "cell_type": "code",
   "execution_count": 7,
   "metadata": {},
   "outputs": [
    {
     "name": "stdout",
     "output_type": "stream",
     "text": [
      "torch.Size([3, 32, 32])\n",
      "torch.Size([64, 30, 30])\n"
     ]
    }
   ],
   "source": [
    "# Conv2d() 함수의 데이터 입력력 형태 확인\n",
    "input = torch.Tensor(torch.rand((3, 32, 32)))\n",
    "print(input.size())\n",
    "fc = nn.Conv2d(3, 64, 3, stride=1)\n",
    "output = fc(input)\n",
    "print(output.size())"
   ]
  },
  {
   "cell_type": "code",
   "execution_count": 8,
   "metadata": {},
   "outputs": [],
   "source": [
    "# 손실함수 및 최적화 방법 정의\n",
    "criterion = nn.CrossEntropyLoss() # 손실함수\n",
    "alexNet = AlexNet().to(device)\n",
    "optimizer = optim.Adam(alexNet.parameters(), lr=1e-3)"
   ]
  },
  {
   "cell_type": "code",
   "execution_count": null,
   "metadata": {},
   "outputs": [],
   "source": [
    "# AlexNet 학습\n",
    "\n",
    "loss_stack=[]\n",
    "for i in range(25):\n",
    "    minibatch_cnt = len(trainloader)\n",
    "    minibatch_loss = 0.0    \n",
    "    for data in trainloader:\n",
    "        optimizer.zero_grad()\n",
    "        inputs, labels = data\n",
    "        inputs = inputs.to(device)\n",
    "        labels = labels.to(device)\n",
    "        outputs = alexNet.forward(inputs)\n",
    "        loss = criterion(outputs, labels)\n",
    "        loss.backward()\n",
    "        optimizer.step()\n",
    "        minibatch_loss += loss.item()\n",
    "\n",
    "    epoch_loss = minibatch_loss/minibatch_cnt    \n",
    "    loss_stack.append(epoch_loss)\n",
    "    \n",
    "    print(f\"epoch: {i}, Loss: {epoch_loss}\")\n",
    "\n",
    "plt.plot(loss_stack)\n",
    "plt.show()    "
   ]
  },
  {
   "cell_type": "code",
   "execution_count": 9,
   "metadata": {},
   "outputs": [],
   "source": [
    "# 파이토치 모델 저장\n",
    "PATH = \"./models/cifar_alexnet.pth\" # .pth 파일은 모델이 저장될 파일 (Inference:추론)을 원할 경우 *.pth파일 형식으로 저장\n",
    "torch.save(alexNet.state_dict(), PATH)"
   ]
  },
  {
   "cell_type": "code",
   "execution_count": null,
   "metadata": {},
   "outputs": [],
   "source": [
    "# 파이토치 모델 로드\n",
    "alexNet2 = AlexNet().to(device)\n",
    "alexNet2.load_state_dict(torch.load(PATH))"
   ]
  },
  {
   "cell_type": "code",
   "execution_count": null,
   "metadata": {},
   "outputs": [],
   "source": [
    "# 평가하기\n",
    "correct = 0\n",
    "total = 0\n",
    "\n",
    "with torch.no_grad():\n",
    "    alexNet2.eval()\n",
    "    for data in testloader:\n",
    "        inputs, labels = data\n",
    "        inputs = inputs.to(device)\n",
    "        labels = labels.to(device)\n",
    "        outputs = alexNet2.forward(inputs)\n",
    "        _, predicted = torch.max(outputs, 1)        \n",
    "        total += labels.size(0)\n",
    "        correct += (labels == predicted).sum().item()\n",
    "\n",
    "print(\"Test accuracy: %.2f%%\" %( (correct/total)*100 ) )"
   ]
  },
  {
   "cell_type": "markdown",
   "metadata": {},
   "source": [
    "#### 6.3 ResNet"
   ]
  },
  {
   "cell_type": "code",
   "execution_count": 19,
   "metadata": {},
   "outputs": [],
   "source": [
    "# Residual block 구축하기\n",
    "# Residual block는 스킵 커넥션과정을 하나로 묶은 개념, \n",
    "# skip connection: 입력 값을 일련의 여러 레이어 결과 값이 더한 개념, 물론 입력 값은 레이어의 입력 값이기도 함\n",
    "#     ┏------------------------------------------┓\n",
    "#     |                                          V  \n",
    "#  입력값 -> 레이어1 -> 레이어2 -> ... 레이어n --(+)--> \n",
    "\n",
    "class ResidualBlock(nn.Module):\n",
    "    def __init__(self, in_channels, out_channels, stride=1):\n",
    "        super(ResidualBlock, self).__init__() # 부모 클래스의 속성, 매서드를 현재 클래스에서 상속\n",
    "        self.stride = stride\n",
    "        self.in_channels = in_channels\n",
    "        self.out_channels = out_channels\n",
    "        self.conv_block = nn.Sequential(\n",
    "            nn.Conv2d(self.in_channels, self.out_channels, kernel_size=3, stride=stride, padding=1, bias=False),\n",
    "            nn.BatchNorm2d(self.out_channels), # 학습을 빠르게 수행할 수 있는 배치 정규화 수행: 배치 정규화는 각 배치의 평균과 분산을 이용해 데이터를 정규화하는 방법\n",
    "            nn.ReLU(),\n",
    "            nn.Conv2d(self.out_channels, self.out_channels, kernel_size=3, stride=1, padding=1, bias=False),\n",
    "            nn.BatchNorm2d(self.out_channels))\n",
    "        # 보폭이 1이상 및 입력채널-출력채널 차이등으로 입력값과 레이어 출력값의 형태가 달라졌을 때\n",
    "        # 두 데이터의 더하기 연산이 불가능 함으로 입력값에 Conv 연산을 통해 레이어 출력값과 형태를 일치시키는 작업을 수행해줘야함\n",
    "        # 일반적으로 downsample 작업이라 함\n",
    "        if self.stride != 1 or self.in_channels != self.out_channels:\n",
    "            self.downsample = nn.Sequential(\n",
    "                nn.Conv2d(self.in_channels, self.out_channels, kernel_size=1, stride=stride, bias=False),\n",
    "                nn.BatchNorm2d(self.out_channels))\n",
    "    \n",
    "    def forward(self, x):\n",
    "        out = self.conv_block(x)\n",
    "        if self.stride != 1 or self.in_channels != self.out_channels:\n",
    "            x = self.downsample(x)\n",
    "        out = F.relu(x+out)\n",
    "        return out\n",
    "        "
   ]
  },
  {
   "cell_type": "code",
   "execution_count": 11,
   "metadata": {},
   "outputs": [
    {
     "name": "stdout",
     "output_type": "stream",
     "text": [
      "torch.Size([3, 32, 32])\n",
      "torch.Size([64, 16, 16])\n",
      "torch.Size([64, 16, 16])\n",
      "torch.Size([64, 16, 16])\n"
     ]
    }
   ],
   "source": [
    "# Down Sample 연산 확인\n",
    "input = torch.Tensor(torch.rand((3, 32, 32)))\n",
    "print(input.size())\n",
    "\n",
    "in_ch = 3\n",
    "out_ch = 64\n",
    "conv2d_1 = nn.Conv2d(in_ch, out_ch, kernel_size=3, stride=2, padding=1, bias=False)\n",
    "conv2d_2 = nn.Conv2d(out_ch, out_ch, kernel_size=3, stride=1, padding=1, bias=False)\n",
    "conv2d_downsample = nn.Conv2d(in_ch, out_ch, kernel_size=1, stride=2, bias=False)\n",
    "\n",
    "output = conv2d_1(input)\n",
    "print(output.size())\n",
    "output = conv2d_2(output)\n",
    "print(output.size())\n",
    "output = conv2d_downsample(input)\n",
    "print(output.size())"
   ]
  },
  {
   "cell_type": "code",
   "execution_count": 21,
   "metadata": {},
   "outputs": [],
   "source": [
    "class ResNet(nn.Module):\n",
    "    def __init__(self, num_blocks, num_classes=10):\n",
    "        super(ResNet, self).__init__()\n",
    "        self.in_channels=64\n",
    "        self.base = nn.Sequential(\n",
    "            nn.Conv2d(3, 64, kernel_size=3, stride=1, padding=1, bias=False),\n",
    "            nn.BatchNorm2d(64),\n",
    "            nn.ReLU())\n",
    "        self.layer1 = self._make_layer(64, num_blocks[0], stride=1)\n",
    "        self.layer2 = self._make_layer(128, num_blocks[1], stride=2)\n",
    "        self.layer3 = self._make_layer(256, num_blocks[2], stride=2)\n",
    "        self.layer4 = self._make_layer(512, num_blocks[3], stride=2)\n",
    "        # 위의 레이어를 통과하면 이미지의 크기는 4x4가되고 채널의 개수는 512가된다.\n",
    "        self.gap = nn.AvgPool2d(4) # 4: 필터사이즈 <= 평균풀링을 거치면 4x4 => 1 즉 512x1 => 512개의 벡터가 됨\n",
    "        self.fc = nn.Linear(512, num_classes)\n",
    "\n",
    "    def _make_layer(self, out_channels, num_blocks, stride):\n",
    "        # [stride:2]+[1]*(num_blocks:4-1) => [2,1,1,1]\n",
    "        strides = [stride]+[1]*(num_blocks-1)\n",
    "        layers=[]\n",
    "        for stride in strides:\n",
    "            block = ResidualBlock(self.in_channels, out_channels, stride)\n",
    "            layers.append(block)\n",
    "            self.in_channels = out_channels\n",
    "        return nn.Sequential(*layers) # *컬렉션변수 => unpack 컬렉션 변수 ex) *[1,2,3] =>\n",
    "    \n",
    "    def forward(self, x):\n",
    "        out = self.base(x)\n",
    "        out = self.layer1(out)\n",
    "        out = self.layer2(out)\n",
    "        out = self.layer3(out)\n",
    "        out = self.layer4(out)\n",
    "        out = self.gap(out)        \n",
    "        out = out.view(out.size(0), -1)\n",
    "        out = self.fc(out)\n",
    "        return out"
   ]
  },
  {
   "cell_type": "code",
   "execution_count": 13,
   "metadata": {},
   "outputs": [
    {
     "data": {
      "text/plain": [
       "[2, 1, 1, 1]"
      ]
     },
     "execution_count": 13,
     "metadata": {},
     "output_type": "execute_result"
    }
   ],
   "source": [
    "# 리스트 연산 예제\n",
    "strides = [2]+[1]*(4-1)\n",
    "strides"
   ]
  },
  {
   "cell_type": "code",
   "execution_count": 14,
   "metadata": {},
   "outputs": [
    {
     "name": "stdout",
     "output_type": "stream",
     "text": [
      "(1, 2, 3)\n"
     ]
    }
   ],
   "source": [
    "# 컬렉션 변수 언팩 예제\n",
    "def fun1(*p):\n",
    "    print(p)\n",
    "\n",
    "a = [1,2,3]\n",
    "fun1(*a)\n"
   ]
  },
  {
   "cell_type": "code",
   "execution_count": 44,
   "metadata": {},
   "outputs": [],
   "source": [
    "# 모델 훈련 함수\n",
    "def trainModel(model: nn.Module, dataloader: DataLoader, epoch=10):\n",
    "    optimizer = optim.Adam(model.parameters(), lr=1e-3)\n",
    "    criterion = nn.CrossEntropyLoss()\n",
    "    loss_stack = []\n",
    "    for i in range(epoch):\n",
    "        batchloss_sum = 0.0\n",
    "        batch_count = len(dataloader)\n",
    "        for data in dataloader:\n",
    "            optimizer.zero_grad()\n",
    "            inputs, labels = data\n",
    "            inputs = inputs.to(device)\n",
    "            labels = labels.to(device)\n",
    "            outputs = model.forward(inputs)\n",
    "            loss = criterion(outputs, labels)\n",
    "            loss.backward()\n",
    "            optimizer.step()\n",
    "            batchloss_sum += loss.item()\n",
    "        batchloss_avg = batchloss_sum/batch_count\n",
    "        loss_stack.append(batchloss_avg)\n",
    "        print(f\"epoch: {i}, \"+\"loss: %.10f%%\" %batchloss_avg)\n",
    "    plt.figure(figsize=(7, 4))\n",
    "    plt.xlabel(\"epoch\")\n",
    "    plt.ylabel(\"Loss\")\n",
    "    plt.plot(loss_stack)\n",
    "    plt.show()"
   ]
  },
  {
   "cell_type": "code",
   "execution_count": 45,
   "metadata": {},
   "outputs": [
    {
     "name": "stdout",
     "output_type": "stream",
     "text": [
      "epoch: 0, loss: 1.4129978293%\n",
      "epoch: 1, loss: 0.8971419324%\n",
      "epoch: 2, loss: 0.6654915811%\n",
      "epoch: 3, loss: 0.5143238052%\n",
      "epoch: 4, loss: 0.3962408284%\n",
      "epoch: 5, loss: 0.2906668923%\n",
      "epoch: 6, loss: 0.2072989099%\n",
      "epoch: 7, loss: 0.1440721179%\n",
      "epoch: 8, loss: 0.1044215017%\n",
      "epoch: 9, loss: 0.0873660851%\n"
     ]
    },
    {
     "data": {
      "image/png": "[encoded data removed]",
      "text/plain": [
       "<Figure size 504x288 with 1 Axes>"
      ]
     },
     "metadata": {
      "needs_background": "light"
     },
     "output_type": "display_data"
    }
   ],
   "source": [
    "# 모델 훈련하기\n",
    "resNet = ResNet([2,2,2,2]).to(device)\n",
    "trainModel(resNet, trainloader)"
   ]
  },
  {
   "cell_type": "code",
   "execution_count": 46,
   "metadata": {},
   "outputs": [],
   "source": [
    "# 파이토치 모델 저장\n",
    "PATH = \"./models/cifar_resnet.pth\" # .pth 파일은 모델이 저장될 파일 (Inference:추론)을 원할 경우 *.pth파일 형식으로 저장\n",
    "torch.save(resNet.state_dict(), PATH)"
   ]
  },
  {
   "cell_type": "code",
   "execution_count": null,
   "metadata": {},
   "outputs": [],
   "source": []
  }
 ],
 "metadata": {
  "kernelspec": {
   "display_name": "Python 3.9.7 ('rfBasic')",
   "language": "python",
   "name": "python3"
  },
  "language_info": {
   "codemirror_mode": {
    "name": "ipython",
    "version": 3
   },
   "file_extension": ".py",
   "mimetype": "text/x-python",
   "name": "python",
   "nbconvert_exporter": "python",
   "pygments_lexer": "ipython3",
   "version": "3.9.7"
  },
  "orig_nbformat": 4,
  "vscode": {
   "interpreter": {
    "hash": "95d65aac4a209d7f6f477bff3bf0d30402813baf4a07fcd4786092f0b3bc81ae"
   }
  }
 },
 "nbformat": 4,
 "nbformat_minor": 2
}
