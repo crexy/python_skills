{
 "cells": [
  {
   "cell_type": "code",
   "execution_count": 17,
   "metadata": {},
   "outputs": [],
   "source": [
    "import torch\n",
    "import torchvision\n",
    "import torchvision.transforms as tr\n",
    "from torch.utils.data import DataLoader, Dataset\n",
    "import numpy as np\n",
    "import matplotlib.pyplot as plt\n",
    "import torch.nn as nn\n",
    "import pandas as pd\n",
    "from sklearn.model_selection import train_test_split\n",
    "import torch.nn.functional as F\n",
    "from sklearn.metrics import mean_squared_error\n"
   ]
  },
  {
   "cell_type": "markdown",
   "metadata": {},
   "source": [
    "#### unsqueez() 함수 이해하기"
   ]
  },
  {
   "cell_type": "code",
   "execution_count": 12,
   "metadata": {},
   "outputs": [
    {
     "name": "stdout",
     "output_type": "stream",
     "text": [
      "Original:\n",
      "tensor([[1., 1.],\n",
      "        [1., 1.]])\n",
      "torch.Size([2, 2])\n",
      "unsqueeze(0): \n",
      "tensor([[[1., 1.],\n",
      "         [1., 1.]]])\n",
      "torch.Size([1, 2, 2])\n",
      "unsqueeze(1): \n",
      "tensor([[[1., 1.]],\n",
      "\n",
      "        [[1., 1.]]])\n",
      "torch.Size([2, 1, 2])\n",
      "unsqueeze(2): \n",
      "tensor([[[1.],\n",
      "         [1.]],\n",
      "\n",
      "        [[1.],\n",
      "         [1.]]])\n",
      "torch.Size([2, 2, 1])\n"
     ]
    }
   ],
   "source": [
    "# 지정한 위치에 차원하나를 추가\n",
    "# 예를 들어 2,2 텐서에 unsqueeze(0)를 수행하면 텐서의 맨 앞에 차원을 추가 => (1,2,2)\n",
    "tensor1 = torch.Tensor(np.ones((2,2)))\n",
    "print(\"Original:\")\n",
    "print(tensor1)\n",
    "print(tensor1.size())\n",
    "print(\"unsqueeze(0): \")\n",
    "usqz0 = tensor1.unsqueeze(0) \n",
    "print(usqz0)\n",
    "print(usqz0.size())\n",
    "print(\"unsqueeze(1): \")\n",
    "usqz1 = tensor1.unsqueeze(1)\n",
    "print(usqz1)\n",
    "print(usqz1.size())\n",
    "print(\"unsqueeze(2): \")\n",
    "usqz2 = tensor1.unsqueeze(2)\n",
    "print(usqz2)\n",
    "print(usqz2.size())"
   ]
  },
  {
   "cell_type": "markdown",
   "metadata": {},
   "source": [
    "#### 5.1 다층 퍼셉트론"
   ]
  },
  {
   "cell_type": "markdown",
   "metadata": {},
   "source": [
    "##### 5.1.1 선형회귀"
   ]
  },
  {
   "cell_type": "code",
   "execution_count": 5,
   "metadata": {},
   "outputs": [],
   "source": [
    "class LinearRegress(nn.Module):\n",
    "    def __init__(self):\n",
    "        super().__init__()\n",
    "        # 선형회귀 모델 y = w*x+b 표현 입력: 1, 출력: 1\n",
    "        self.fc = nn.Linear(1, 1, bias=True)\n",
    "    def forward(self, x):\n",
    "        y = self.fc(x)\n",
    "        return y\n",
    "        "
   ]
  },
  {
   "cell_type": "code",
   "execution_count": 16,
   "metadata": {},
   "outputs": [
    {
     "data": {
      "image/png": "[encoded data removed]",
      "text/plain": [
       "<Figure size 720x360 with 2 Axes>"
      ]
     },
     "metadata": {
      "needs_background": "light"
     },
     "output_type": "display_data"
    }
   ],
   "source": [
    "x = torch.FloatTensor(range(15)).unsqueeze(1) # 입력 값\n",
    "y = 2*x+torch.rand(15,1) # 정답\n",
    "\n",
    "model = LinearRegress()\n",
    "learning_rate = 1e-3\n",
    "criterion = nn.MSELoss()\n",
    "optimizer = torch.optim.SGD(model.parameters(), lr=learning_rate)\n",
    "\n",
    "loss_stack = []\n",
    "for epoch in range(50):\n",
    "    # Pytorch는 기본설정에 옵티마이저의 gradients값들을 추후 역전파 시 가산시키도록 되어 있음,\n",
    "    # 이러한 미분값 가산방식은 RNN을 학습시킬 때 편리함, 그러나 기본적인 방식의 학습일 경우\n",
    "    # 학습이 한번 종료되면 반드시 옵티마이저의 이전 미분값을 zero_grad()로 초기화 하여 학습을 진행햐야 함\n",
    "    optimizer.zero_grad() # 최적화는 계산을 누적시키기 때문에 매 epoch 마다 zero_grad()를 통해 값을 초기화 해준다.\n",
    "    y_hat = model.forward(x)\n",
    "    loss = criterion(y, y_hat)    \n",
    "    loss.backward()\n",
    "    optimizer.step()\n",
    "    loss_stack.append(loss.item())\n",
    "\n",
    "plt.figure(figsize=(10, 5))\n",
    "plt.subplot(121)\n",
    "plt.plot(loss_stack)\n",
    "plt.title(\"Loss\")\n",
    "plt.subplot(122)\n",
    "plt.plot(y.numpy(), 'r.')\n",
    "plt.title(\"Prediction\")\n",
    "plt.plot(y_hat.detach().numpy(), 'b-') # grad(미분값)이 포함된 Tensor를 넘파이로 변환하기전에 detach()로 grad제거\n",
    "plt.show()\n",
    "    "
   ]
  },
  {
   "cell_type": "markdown",
   "metadata": {},
   "source": [
    "##### 5.1.2 집값 예측하기"
   ]
  },
  {
   "cell_type": "code",
   "execution_count": 80,
   "metadata": {},
   "outputs": [],
   "source": [
    "# 데이터 셋 클래스\n",
    "class TensorData(Dataset):\n",
    "    def __init__(self, x_data, y_data):\n",
    "        self.x_data = torch.FloatTensor(x_data)\n",
    "        self.y_data = torch.FloatTensor(y_data)\n",
    "        self.len = y_data.shape[0]\n",
    "    def __getitem__(self, index):\n",
    "        return self.x_data[index], self.y_data[index]\n",
    "    def __len__(self):\n",
    "        return self.len"
   ]
  },
  {
   "cell_type": "code",
   "execution_count": 81,
   "metadata": {},
   "outputs": [],
   "source": [
    "# 데이터 셋 만들기\n",
    "df = pd.read_csv(\"./data/reg.csv\", index_col=[0])\n",
    "# 데이터 프레임을 넘파일 배열로\n",
    "X = df.drop('Price', axis=1).to_numpy()\n",
    "Y = df['Price'].to_numpy().reshape(-1, 1)\n",
    "# 훈련 데이터와 테스트 데이터 나누기 \n",
    "#  * 순서는 1)훈련X, 2)테스트X, 3)훈련Y, 4)테스트X\n",
    "X_train, X_test, Y_train, Y_test = train_test_split(X, Y, test_size=0.5)"
   ]
  },
  {
   "cell_type": "code",
   "execution_count": 82,
   "metadata": {},
   "outputs": [],
   "source": [
    "# 텐서 데이터 만들기\n",
    "trainset = TensorData(X_train, Y_train)\n",
    "trainLoader = DataLoader(trainset, batch_size=32, shuffle=True)\n",
    "testset = TensorData(X_test, Y_test)\n",
    "testLoader = DataLoader(testset, batch_size=32, shuffle=False)"
   ]
  },
  {
   "cell_type": "code",
   "execution_count": 83,
   "metadata": {},
   "outputs": [
    {
     "data": {
      "text/plain": [
       "(tensor([0.0711, 0.0243, 0.6994, 0.2908, 0.6043, 0.3782, 0.9289, 0.1472, 0.1597,\n",
       "         0.4133, 0.2745, 0.8814, 0.5890]),\n",
       " tensor([0.2311]))"
      ]
     },
     "execution_count": 83,
     "metadata": {},
     "output_type": "execute_result"
    }
   ],
   "source": [
    "trainset[0]"
   ]
  },
  {
   "cell_type": "code",
   "execution_count": 84,
   "metadata": {},
   "outputs": [],
   "source": [
    "# 모델 구축\n",
    "class Regressor(nn.Module):\n",
    "    def __init__(self):\n",
    "        super().__init__()\n",
    "        self.fc1 = nn.Linear(13, 50)\n",
    "        self.fc2 = nn.Linear(50, 30)\n",
    "        self.fc3 = nn.Linear(30, 1)\n",
    "        self.dropout = nn.Dropout(0.5)\n",
    "    def forward(self, x):\n",
    "        x = F.relu(self.fc1(x))        \n",
    "        x = self.dropout(F.relu(self.fc2(x)))        \n",
    "        x = F.relu(self.fc3(x))\n",
    "        return x\n"
   ]
  },
  {
   "cell_type": "code",
   "execution_count": 111,
   "metadata": {},
   "outputs": [
    {
     "name": "stdout",
     "output_type": "stream",
     "text": [
      "Epoch: 0, Loss: 0.08769230777397752\n",
      "Epoch: 40, Loss: 0.016739358427003026\n",
      "Epoch: 80, Loss: 0.010349675198085606\n",
      "Epoch: 120, Loss: 0.008884081442374736\n",
      "Epoch: 160, Loss: 0.009246913978131488\n",
      "Epoch: 200, Loss: 0.008373185235541314\n",
      "Epoch: 240, Loss: 0.007372043561190367\n",
      "Epoch: 280, Loss: 0.007334985071793199\n",
      "Epoch: 320, Loss: 0.008444131759461015\n",
      "Epoch: 360, Loss: 0.007160522043704987\n",
      "Epoch: 400, Loss: 0.006642199179623276\n",
      "Epoch: 440, Loss: 0.006283539551077411\n",
      "Epoch: 480, Loss: 0.006108397239586338\n"
     ]
    },
    {
     "data": {
      "image/png": "[encoded data removed]",
      "text/plain": [
       "<Figure size 432x288 with 1 Axes>"
      ]
     },
     "metadata": {
      "needs_background": "light"
     },
     "output_type": "display_data"
    }
   ],
   "source": [
    "# 모델 학습하기\n",
    "model = Regressor()\n",
    "criterion = nn.MSELoss()\n",
    "\n",
    "optimizer = torch.optim.Adam(model.parameters(), lr=1e-3, weight_decay=1e-7)\n",
    "# weight decay는 weight들의 값이 증가하는 것을 제한함으로써, \n",
    "# 모델의 복잡도를 감소시킴으로써 제한하는 기법, \n",
    "# 즉 weight를 decay(부식시킨다라는 의미를 조금 감량시키는 의미)시켜서 \n",
    "# Overfitting을 방지하는 기법\n",
    "# SGD 경우 Regualarization: (1-에타^람다)W - 에타*미분(MSE)\n",
    "# Regularization 수식에서 람다값이 weight_decay값임!\n",
    "\n",
    "loss_ = []\n",
    "minibatch_cnt = len(trainLoader) # 데이터로더에 포함된 미니배치의 갯수\n",
    "# ex) 데이터수: 1000, 배치사이즈: 25 => minibatch_cnt: 40 => 미니배치 데이터의 개수\n",
    "for i in range(500):\n",
    "    running_loss = 0.0\n",
    "    for data in trainLoader:\n",
    "        inputs, values = data\n",
    "        optimizer.zero_grad()\n",
    "        y = model.forward(inputs)\n",
    "        e = criterion(y, values)\n",
    "        e.backward()\n",
    "        optimizer.step()\n",
    "        running_loss += e.item()\n",
    "    epoch_loss = running_loss/minibatch_cnt\n",
    "    loss_.append(epoch_loss)\n",
    "    if i % 40 == 0:\n",
    "        print(f\"Epoch: {i}, Loss: {epoch_loss}\")\n",
    "        \n",
    "plt.plot(loss_)\n",
    "plt.show()\n",
    "\n"
   ]
  },
  {
   "cell_type": "code",
   "execution_count": 102,
   "metadata": {},
   "outputs": [],
   "source": [
    "# 모델 평가하기\n",
    "def evaluateModel(dataloader):\n",
    "    predictions = torch.tensor([], dtype=torch.float)\n",
    "    actuals = torch.tensor([], dtype=torch.float)\n",
    "    with torch.no_grad(): # require_grad를 비활성화 시킴 => 역전파를 위해 사용하는 연산을 비활성화\n",
    "        model.eval() # 드롭아웃과 같이 과적합 방지를 위한 정규화 기법을 비활성화 시킴\n",
    "        for data in dataloader:\n",
    "            inputs, values = data\n",
    "            output = model.forward(inputs)\n",
    "            # predictions에 output 데이터를 누적시킴\n",
    "            # output 데이터가 (1, 32) 경우 axis=0으로 누적되면\n",
    "            # (1, 32) -> (2, 32) 처럼 0번째 차원을 기준으로 데이터가 누적됨\n",
    "            predictions = torch.cat((predictions, output), 0)\n",
    "            actuals = torch.cat((actuals, values), 0)\n",
    "    predictions = predictions.numpy()\n",
    "    actuals = actuals.numpy()\n",
    "    rmse = np.sqrt(mean_squared_error(predictions, actuals))\n",
    "    return rmse\n",
    "\n"
   ]
  },
  {
   "cell_type": "code",
   "execution_count": 112,
   "metadata": {},
   "outputs": [
    {
     "name": "stdout",
     "output_type": "stream",
     "text": [
      "Train RMSE: 0.053189780563116074, Test RMSE: 0.10822522640228271\n"
     ]
    }
   ],
   "source": [
    "train_loss = evaluateModel(trainLoader)\n",
    "test_loss = evaluateModel(testLoader)\n",
    "\n",
    "print(f\"Train RMSE: {train_loss}, Test RMSE: {test_loss}\")"
   ]
  },
  {
   "cell_type": "code",
   "execution_count": 110,
   "metadata": {},
   "outputs": [
    {
     "data": {
      "text/plain": [
       "0.1"
      ]
     },
     "execution_count": 110,
     "metadata": {},
     "output_type": "execute_result"
    }
   ],
   "source": [
    "np.sqrt(1/100)"
   ]
  },
  {
   "cell_type": "code",
   "execution_count": null,
   "metadata": {},
   "outputs": [],
   "source": []
  }
 ],
 "metadata": {
  "kernelspec": {
   "display_name": "Python 3.9.7 ('rfBasic')",
   "language": "python",
   "name": "python3"
  },
  "language_info": {
   "codemirror_mode": {
    "name": "ipython",
    "version": 3
   },
   "file_extension": ".py",
   "mimetype": "text/x-python",
   "name": "python",
   "nbconvert_exporter": "python",
   "pygments_lexer": "ipython3",
   "version": "3.9.7"
  },
  "orig_nbformat": 4,
  "vscode": {
   "interpreter": {
    "hash": "95d65aac4a209d7f6f477bff3bf0d30402813baf4a07fcd4786092f0b3bc81ae"
   }
  }
 },
 "nbformat": 4,
 "nbformat_minor": 2
}
