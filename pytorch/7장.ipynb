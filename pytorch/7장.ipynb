{
 "cells": [
  {
   "cell_type": "markdown",
   "metadata": {},
   "source": [
    "### 7 순환신경망"
   ]
  },
  {
   "cell_type": "markdown",
   "metadata": {},
   "source": [
    "#### 7.1 기본 순환 신경망"
   ]
  },
  {
   "cell_type": "markdown",
   "metadata": {},
   "source": [
    "##### 7.1.5 기본 순환 신경망 구현"
   ]
  },
  {
   "cell_type": "code",
   "execution_count": 2,
   "metadata": {},
   "outputs": [],
   "source": [
    "# 라이브러리 로드\n",
    "import numpy as np\n",
    "import pandas as pd\n",
    "from sklearn.preprocessing import MinMaxScaler\n",
    "import torch\n",
    "import torch.optim as optim\n",
    "import matplotlib.pyplot as plt"
   ]
  },
  {
   "cell_type": "code",
   "execution_count": 3,
   "metadata": {},
   "outputs": [
    {
     "data": {
      "text/html": [
       "<div>\n",
       "<style scoped>\n",
       "    .dataframe tbody tr th:only-of-type {\n",
       "        vertical-align: middle;\n",
       "    }\n",
       "\n",
       "    .dataframe tbody tr th {\n",
       "        vertical-align: top;\n",
       "    }\n",
       "\n",
       "    .dataframe thead th {\n",
       "        text-align: right;\n",
       "    }\n",
       "</style>\n",
       "<table border=\"1\" class=\"dataframe\">\n",
       "  <thead>\n",
       "    <tr style=\"text-align: right;\">\n",
       "      <th></th>\n",
       "      <th>Date</th>\n",
       "      <th>Open</th>\n",
       "      <th>High</th>\n",
       "      <th>Low</th>\n",
       "      <th>Close</th>\n",
       "      <th>Adj Close</th>\n",
       "      <th>Volume</th>\n",
       "    </tr>\n",
       "  </thead>\n",
       "  <tbody>\n",
       "    <tr>\n",
       "      <th>0</th>\n",
       "      <td>2019-01-30</td>\n",
       "      <td>0.722898</td>\n",
       "      <td>0.732351</td>\n",
       "      <td>0.745525</td>\n",
       "      <td>0.759235</td>\n",
       "      <td>2206.199951</td>\n",
       "      <td>0.242113</td>\n",
       "    </tr>\n",
       "    <tr>\n",
       "      <th>1</th>\n",
       "      <td>2019-01-31</td>\n",
       "      <td>0.763058</td>\n",
       "      <td>0.750069</td>\n",
       "      <td>0.769089</td>\n",
       "      <td>0.757866</td>\n",
       "      <td>2204.850098</td>\n",
       "      <td>0.274771</td>\n",
       "    </tr>\n",
       "    <tr>\n",
       "      <th>2</th>\n",
       "      <td>2019-02-01</td>\n",
       "      <td>0.751894</td>\n",
       "      <td>0.745714</td>\n",
       "      <td>0.769280</td>\n",
       "      <td>0.756456</td>\n",
       "      <td>2203.459961</td>\n",
       "      <td>0.241609</td>\n",
       "    </tr>\n",
       "    <tr>\n",
       "      <th>3</th>\n",
       "      <td>2019-02-07</td>\n",
       "      <td>0.755809</td>\n",
       "      <td>0.742538</td>\n",
       "      <td>0.764596</td>\n",
       "      <td>0.756415</td>\n",
       "      <td>2203.419922</td>\n",
       "      <td>0.215603</td>\n",
       "    </tr>\n",
       "    <tr>\n",
       "      <th>4</th>\n",
       "      <td>2019-02-08</td>\n",
       "      <td>0.731584</td>\n",
       "      <td>0.717777</td>\n",
       "      <td>0.739548</td>\n",
       "      <td>0.729669</td>\n",
       "      <td>2177.050049</td>\n",
       "      <td>0.197057</td>\n",
       "    </tr>\n",
       "  </tbody>\n",
       "</table>\n",
       "</div>"
      ],
      "text/plain": [
       "         Date      Open      High       Low     Close    Adj Close    Volume\n",
       "0  2019-01-30  0.722898  0.732351  0.745525  0.759235  2206.199951  0.242113\n",
       "1  2019-01-31  0.763058  0.750069  0.769089  0.757866  2204.850098  0.274771\n",
       "2  2019-02-01  0.751894  0.745714  0.769280  0.756456  2203.459961  0.241609\n",
       "3  2019-02-07  0.755809  0.742538  0.764596  0.756415  2203.419922  0.215603\n",
       "4  2019-02-08  0.731584  0.717777  0.739548  0.729669  2177.050049  0.197057"
      ]
     },
     "execution_count": 3,
     "metadata": {},
     "output_type": "execute_result"
    }
   ],
   "source": [
    "# 데이터 로드\n",
    "df = pd.read_csv(\"./data/kospi.csv\")\n",
    "scaler = MinMaxScaler()\n",
    "# min max 스케일러를 사용하여 데이터를 0~1 사이의 값으로 보정해준다.\n",
    "df[['Open', 'High', 'Low', 'Close', 'Volume']] = scaler.fit_transform(df[['Open', 'High', 'Low', 'Close', 'Volume']])\n",
    "df.head()"
   ]
  },
  {
   "cell_type": "code",
   "execution_count": 5,
   "metadata": {},
   "outputs": [],
   "source": [
    "# 텐서 데이터 만들기\n",
    "device = torch.device(\"cuda:0\" if torch.cuda.is_available() else \"cpu\")\n",
    "\n",
    "inputs = df[['Open', 'High', 'Low', 'Volume']].values\n",
    "targets = df[['Close']].values"
   ]
  },
  {
   "cell_type": "code",
   "execution_count": 6,
   "metadata": {},
   "outputs": [],
   "source": [
    "# 시퀀스 데이터 만들기\n",
    "from msilib import sequence\n",
    "\n",
    "\n",
    "def seq_data(x, y, seq_length):\n",
    "    # 데이터를 일정 길이 기준으로 잘라서 배열로 만들어 반환\n",
    "    # ex) x:[1,2,3,4,5], y:[1,2,3,4,5], seq_length=3  경우\n",
    "    # 배열의 첫번째 내용:  x_seq -> [1,2,3], y_seq -> 4\n",
    "    # 배열의 두번째 내용:  x_seq -> [2,3,4], y_seq -> 5\n",
    "    x_seq=[]\n",
    "    y_seq=[]\n",
    "    len = len(x)\n",
    "    for i in range(len-seq_length):        \n",
    "        x_seq.append(x[i: i+seq_length])\n",
    "        y_seq.append(y[i+seq_length])\n",
    "    return torch.FloatTensor(x_seq.to(device)), torch.FloatTensor(y_seq.to(device)).view(-1, 1)\n",
    "    # y_seq를 view(-1,1) 로 2차원배열로 만든 것은 오차함수로 사용할 MSE Loss가 기본적으로 이차원 함수를 요구하기 때문"
   ]
  },
  {
   "cell_type": "code",
   "execution_count": null,
   "metadata": {},
   "outputs": [],
   "source": []
  }
 ],
 "metadata": {
  "kernelspec": {
   "display_name": "Python 3.9.7 ('rfBasic')",
   "language": "python",
   "name": "python3"
  },
  "language_info": {
   "codemirror_mode": {
    "name": "ipython",
    "version": 3
   },
   "file_extension": ".py",
   "mimetype": "text/x-python",
   "name": "python",
   "nbconvert_exporter": "python",
   "pygments_lexer": "ipython3",
   "version": "3.9.7"
  },
  "orig_nbformat": 4,
  "vscode": {
   "interpreter": {
    "hash": "95d65aac4a209d7f6f477bff3bf0d30402813baf4a07fcd4786092f0b3bc81ae"
   }
  }
 },
 "nbformat": 4,
 "nbformat_minor": 2
}
