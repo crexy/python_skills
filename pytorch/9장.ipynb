{
 "cells": [
  {
   "cell_type": "code",
   "execution_count": 6,
   "metadata": {},
   "outputs": [],
   "source": [
    "import numpy as np\n",
    "import torch"
   ]
  },
  {
   "cell_type": "code",
   "execution_count": 5,
   "metadata": {},
   "outputs": [
    {
     "data": {
      "text/plain": [
       "0.030000000000000002"
      ]
     },
     "execution_count": 5,
     "metadata": {},
     "output_type": "execute_result"
    }
   ],
   "source": [
    "\n"
   ]
  },
  {
   "cell_type": "code",
   "execution_count": 53,
   "metadata": {},
   "outputs": [
    {
     "name": "stdout",
     "output_type": "stream",
     "text": [
      "tensor([[[0., 0., 1., 0., 0., 0., 0., 0., 0., 0.],\n",
      "         [0., 0., 0., 1., 0., 0., 0., 0., 0., 0.],\n",
      "         [1., 0., 0., 0., 0., 0., 0., 0., 0., 0.],\n",
      "         [0., 0., 0., 0., 0., 0., 1., 0., 0., 0.],\n",
      "         [0., 0., 0., 0., 1., 0., 0., 0., 0., 0.]],\n",
      "\n",
      "        [[0., 0., 0., 0., 0., 0., 0., 0., 0., 1.],\n",
      "         [0., 0., 0., 0., 0., 1., 0., 0., 0., 0.],\n",
      "         [0., 0., 0., 0., 0., 0., 0., 0., 0., 1.],\n",
      "         [0., 0., 0., 0., 0., 1., 0., 0., 0., 0.],\n",
      "         [0., 0., 0., 0., 1., 0., 0., 0., 0., 0.]]])\n"
     ]
    },
    {
     "data": {
      "text/plain": [
       "tensor([[2, 3, 0, 6, 4],\n",
       "        [9, 5, 9, 5, 4]])"
      ]
     },
     "execution_count": 53,
     "metadata": {},
     "output_type": "execute_result"
    }
   ],
   "source": [
    "\n",
    "# 교란 라벨 \n",
    "cluster = 10 # 레벨의 범위 0 ~ 9 \n",
    "alpha = 30 # 교란 확률 ex) 원래 라벨이 30%확률로 다른 라벨로 교란됨\n",
    "p_c = (1-((cluster-1)/cluster)*(alpha/100))  # 원래 라벨이 선택될 확률 값\n",
    "p_i = (1-p_c)/(cluster-1) # 원래 라벨 외의 라벨이 선택될 확률 값\n",
    "\n",
    "#y = np.random.choice(10, (2,5))\n",
    "y = np.array([[3, 3, 0, 0, 4],[9, 5, 9, 2, 4]])\n",
    "# (2,5) 데이터를 (10,1) 으로 변경한다.\n",
    "y_tensor = torch.LongTensor(y).view(-1, 1)\n",
    "\n",
    "#print(y_tensor)\n",
    "\n",
    "depth = cluster # 라벨 인덱스의 범위 ex) 10 : 0~9\n",
    "\n",
    "y_one_hot = torch.ones(y_tensor.size()[0], depth)*p_i # (10, 10) 형태의 ones 텐서를 만들고 p_i(기본확률값)값을 브로트캐스팅한다.\n",
    "y_one_hot.scatter_(1, y_tensor, p_c) # tensor.scatter_(dim, index, val): 텐서의 dim차원에 index번째 원소에 val을 대입\n",
    "#print(y_one_hot)\n",
    "# *(tuple((2,5))+(-1,)) => 2 5 -1 , *: 언팩킹, 2 5 -1 값이 차원값으로 대입된다.\n",
    "y_one_hot = y_one_hot.view(*(tuple(y.shape)+(-1,))) # 입력값의 차원이(2,5) 였다면 one-hot 인코딩 된 차원으로 변경하면 (2,5,10) 이된다.\n",
    "\n",
    "distribution = torch.distributions.OneHotCategorical(y_one_hot) # Multinoulli 분포를 통해 \n",
    "y_distributed = distribution.sample() # 입력된 확률에 의한 샘플을 뽑음 ex) [0.1, 0.1, 0.8] => [0, 0, 1]\n",
    "#print(y_one_hot)\n",
    "print(y_distributed) \n",
    "y_distributed.max(dim=y.ndim)[1]"
   ]
  },
  {
   "cell_type": "code",
   "execution_count": 70,
   "metadata": {},
   "outputs": [
    {
     "name": "stdout",
     "output_type": "stream",
     "text": [
      "tensor([0.2838, 0.9976, 0.8301, 0.7734, 0.9808])\n",
      "4\n",
      "tensor([2, 4, 3, 0])\n",
      "tensor([[ 0.0000e+00],\n",
      "        [-2.0132e-08],\n",
      "        [ 0.0000e+00],\n",
      "        [ 0.0000e+00],\n",
      "        [ 0.0000e+00]])\n"
     ]
    }
   ],
   "source": [
    "# 노이즈 생성하기(회귀에서 사용)\n",
    "label = torch.rand(5)\n",
    "print(label)\n",
    "noise = torch.normal(mean=0, std=1e-8, size=(len(label), 1))\n",
    "#print(label)\n",
    "#print(noise)\n",
    "alpha = 0.2\n",
    "noise_el_cnt = int(5*(1-alpha))\n",
    "noise_el_idx = torch.randint(0, len(label), (noise_el_cnt,))\n",
    "print(noise_el_cnt)\n",
    "print(noise_el_idx)\n",
    "noise[noise_el_idx] = 0\n",
    "print(noise)\n",
    "\n"
   ]
  },
  {
   "cell_type": "code",
   "execution_count": null,
   "metadata": {},
   "outputs": [],
   "source": [
    "# 라벨 스무딩"
   ]
  },
  {
   "cell_type": "code",
   "execution_count": null,
   "metadata": {},
   "outputs": [],
   "source": []
  },
  {
   "cell_type": "code",
   "execution_count": null,
   "metadata": {},
   "outputs": [],
   "source": []
  },
  {
   "cell_type": "code",
   "execution_count": null,
   "metadata": {},
   "outputs": [],
   "source": []
  }
 ],
 "metadata": {
  "kernelspec": {
   "display_name": "Python 3.9.7 ('rfBasic')",
   "language": "python",
   "name": "python3"
  },
  "language_info": {
   "codemirror_mode": {
    "name": "ipython",
    "version": 3
   },
   "file_extension": ".py",
   "mimetype": "text/x-python",
   "name": "python",
   "nbconvert_exporter": "python",
   "pygments_lexer": "ipython3",
   "version": "3.9.7"
  },
  "orig_nbformat": 4,
  "vscode": {
   "interpreter": {
    "hash": "95d65aac4a209d7f6f477bff3bf0d30402813baf4a07fcd4786092f0b3bc81ae"
   }
  }
 },
 "nbformat": 4,
 "nbformat_minor": 2
}
