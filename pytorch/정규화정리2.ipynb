{
 "cells": [
  {
   "cell_type": "markdown",
   "metadata": {},
   "source": [
    "## torchvision의 transform으로 이미지 정규화하기(평균, 표준편차를 계산하여 적용)\n",
    "출처: <a href=\"https://teddylee777.github.io/pytorch/torchvision-transform\">https://teddylee777.github.io/pytorch/torchvision-transform</a>\n",
    "\n",
    "이미지 정규화를 진행하는 대표적인 이유 중 하나는 오차역전파(backpropagation)시, 그라디언트(Gradient) 계산을 수행하게 되는데, 데이터가 유사한 범위를 가지도록 하기 위함\n",
    "정규화를 어떻게 수행하는가에 따라서 모델의 학습결과는 달라질 수 있음"
   ]
  },
  {
   "cell_type": "code",
   "execution_count": 1,
   "metadata": {},
   "outputs": [],
   "source": [
    "import numpy as np\n",
    "import torch\n",
    "from torch.utils.data import Dataset\n",
    "from torchvision import datasets, transforms"
   ]
  },
  {
   "cell_type": "code",
   "execution_count": 2,
   "metadata": {},
   "outputs": [
    {
     "name": "stdout",
     "output_type": "stream",
     "text": [
      "Files already downloaded and verified\n",
      "Files already downloaded and verified\n"
     ]
    }
   ],
   "source": [
    "# 0~1의 범위를 가지도록 정규화\n",
    "transform = transforms.Compose([transforms.ToTensor(),])\n",
    "\n",
    "# datasets의 CIFAR10 데이터셋 로드 (train 데이터셋)\n",
    "train = datasets.CIFAR10(root='data', \n",
    "                         train=True, \n",
    "                         download=True, \n",
    "                         # transform 지정\n",
    "                         transform=transform                \n",
    "                        )\n",
    "\n",
    "# datasets의 CIFAR10 데이터셋 로드 (test 데이터셋)\n",
    "test = datasets.CIFAR10(root='data', \n",
    "                        train=False, \n",
    "                        download=True, \n",
    "                        # transform 지정\n",
    "                        transform=transform\n",
    "                       )                        "
   ]
  },
  {
   "cell_type": "code",
   "execution_count": 3,
   "metadata": {},
   "outputs": [],
   "source": [
    "# 이미지의 RGB 채널별 통계량 확인 함수\n",
    "def print_stats(dataset):\n",
    "    imgs = np.array([img.numpy() for img, _ in dataset])\n",
    "    print(f'shape: {imgs.shape}')\n",
    "    \n",
    "    # axis=(2,3) => 32x32 이미지 데이터 중 에서 연산(최소, 최대, 평균, 표준편차) 수행\n",
    "    min_r = np.min(imgs, axis=(2, 3))[:, 0].min()\n",
    "    min_g = np.min(imgs, axis=(2, 3))[:, 1].min()\n",
    "    min_b = np.min(imgs, axis=(2, 3))[:, 2].min()\n",
    "\n",
    "    max_r = np.max(imgs, axis=(2, 3))[:, 0].max()\n",
    "    max_g = np.max(imgs, axis=(2, 3))[:, 1].max()\n",
    "    max_b = np.max(imgs, axis=(2, 3))[:, 2].max()\n",
    "\n",
    "    mean_r = np.mean(imgs, axis=(2, 3))[:, 0].mean()\n",
    "    mean_g = np.mean(imgs, axis=(2, 3))[:, 1].mean()\n",
    "    mean_b = np.mean(imgs, axis=(2, 3))[:, 2].mean()\n",
    "\n",
    "    std_r = np.std(imgs, axis=(2, 3))[:, 0].std()\n",
    "    std_g = np.std(imgs, axis=(2, 3))[:, 1].std()\n",
    "    std_b = np.std(imgs, axis=(2, 3))[:, 2].std()\n",
    "    \n",
    "    print(f'min: {min_r, min_g, min_b}')\n",
    "    print(f'max: {max_r, max_g, max_b}')\n",
    "    print(f'mean: {mean_r, mean_g, mean_b}')\n",
    "    print(f'std: {std_r, std_g, std_b}')"
   ]
  },
  {
   "cell_type": "code",
   "execution_count": 4,
   "metadata": {},
   "outputs": [
    {
     "name": "stdout",
     "output_type": "stream",
     "text": [
      "shape: (50000, 3, 32, 32)\n",
      "min: (0.0, 0.0, 0.0)\n",
      "max: (1.0, 1.0, 1.0)\n",
      "mean: (0.49139965, 0.48215845, 0.4465309)\n",
      "std: (0.060528398, 0.061124973, 0.06764512)\n",
      "==============================\n",
      "shape: (10000, 3, 32, 32)\n",
      "min: (0.0, 0.0, 0.0)\n",
      "max: (1.0, 1.0, 1.0)\n",
      "mean: (0.49421427, 0.48513138, 0.45040908)\n",
      "std: (0.06047972, 0.06123986, 0.06758436)\n"
     ]
    }
   ],
   "source": [
    "# transforms.ToTensor()만 적용한 경우, 모든 이미지의 픽셀 값이 0~1의 범위로 변환됨\n",
    "print_stats(train)\n",
    "print('==='*10)\n",
    "print_stats(test)"
   ]
  },
  {
   "cell_type": "markdown",
   "metadata": {},
   "source": [
    "### transforms.Normalize((0.5, 0.5, 0.5), (0.5, 0.5, 0.5)) 적용\n",
    "\n",
    "transofrms.Normalize()는 각 채널별 평균(mean)을 뺀 뒤 표준편차(std)로 나누어 정규화를 진행\n",
    "transofrms.Normalize((R채널 평균, G채널 평균, B채널 평균), (R채널 표준편차, G채널 표준편차, B채널 표준편차))\n",
    "\n",
    "변환 후 결과 = (픽셀 값 - R채널 평균) / (R채널 표준편차)\n",
    "transforms.Normalize((0.5, 0.5, 0.5), (0.5, 0.5, 0.5)) 적용한 경우\n",
    "\n",
    "transforms.ToTensor()가 이미지 픽셀 값의 범위를 0 ~ 1 로 조정했으므로,\n",
    "최소값(=-1)은 (0 - 0.5) / 0.5 = -1, 최대값(=1) 은 (1 - 0.5) / 0.5 = 1 로 조정\n",
    "결국, 위의 예시를 적용한 결과는 -1 ~ 1 범위로 변환됨"
   ]
  },
  {
   "cell_type": "code",
   "execution_count": 5,
   "metadata": {},
   "outputs": [
    {
     "name": "stdout",
     "output_type": "stream",
     "text": [
      "Files already downloaded and verified\n",
      "Files already downloaded and verified\n",
      "shape: (50000, 3, 32, 32)\n",
      "min: (-1.0, -1.0, -1.0)\n",
      "max: (1.0, 1.0, 1.0)\n",
      "mean: (-0.017200625, -0.035683163, -0.10693816)\n",
      "std: (0.121056795, 0.122249946, 0.13529024)\n",
      "==============================\n",
      "shape: (10000, 3, 32, 32)\n",
      "min: (-1.0, -1.0, -1.0)\n",
      "max: (1.0, 1.0, 1.0)\n",
      "mean: (-0.011571422, -0.029737204, -0.0991818)\n",
      "std: (0.12095944, 0.12247972, 0.13516872)\n"
     ]
    }
   ],
   "source": [
    "transform = transforms.Compose([\n",
    "    transforms.ToTensor(),\n",
    "    # -1 ~ 1 사이의 범위를 가지도록 정규화\n",
    "    transforms.Normalize((0.5, 0.5, 0.5), (0.5, 0.5, 0.5))\n",
    "])\n",
    "\n",
    "# datasets의 CIFAR10 데이터셋 로드 (train 데이터셋)\n",
    "train = datasets.CIFAR10(root='data', \n",
    "                         train=True, \n",
    "                         download=True, \n",
    "                         transform=transform                \n",
    "                        )\n",
    "\n",
    "# datasets의 CIFAR10 데이터셋 로드 (test 데이터셋)\n",
    "test = datasets.CIFAR10(root='data', \n",
    "                        train=False, \n",
    "                        download=True, \n",
    "                        transform=transform\n",
    "                       )     \n",
    "                       \n",
    "print_stats(train)\n",
    "print('==='*10)\n",
    "print_stats(test)"
   ]
  },
  {
   "cell_type": "code",
   "execution_count": null,
   "metadata": {},
   "outputs": [],
   "source": []
  }
 ],
 "metadata": {
  "kernelspec": {
   "display_name": "Python 3.9.7 ('rfBasic')",
   "language": "python",
   "name": "python3"
  },
  "language_info": {
   "codemirror_mode": {
    "name": "ipython",
    "version": 3
   },
   "file_extension": ".py",
   "mimetype": "text/x-python",
   "name": "python",
   "nbconvert_exporter": "python",
   "pygments_lexer": "ipython3",
   "version": "3.9.7"
  },
  "orig_nbformat": 4,
  "vscode": {
   "interpreter": {
    "hash": "95d65aac4a209d7f6f477bff3bf0d30402813baf4a07fcd4786092f0b3bc81ae"
   }
  }
 },
 "nbformat": 4,
 "nbformat_minor": 2
}
