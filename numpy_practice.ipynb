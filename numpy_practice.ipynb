{
 "cells": [
  {
   "cell_type": "code",
   "execution_count": 1,
   "metadata": {},
   "outputs": [],
   "source": [
    "import numpy as np"
   ]
  },
  {
   "cell_type": "code",
   "execution_count": 10,
   "metadata": {},
   "outputs": [
    {
     "name": "stdout",
     "output_type": "stream",
     "text": [
      "[[0.35933313 0.98033738 0.75179272]\n",
      " [0.61854777 0.69154466 0.94104401]\n",
      " [0.7751151  0.54588286 0.95413146]\n",
      " [0.54519846 0.98297737 0.59005639]\n",
      " [0.25156742 0.49114662 0.27117579]]\n"
     ]
    },
    {
     "data": {
      "text/plain": [
       "-2.4079456086518722"
      ]
     },
     "execution_count": 10,
     "metadata": {},
     "output_type": "execute_result"
    }
   ],
   "source": [
    "# 넘파이 색인 추출 방법\n",
    "y = np.random.uniform(low=0, high=1, size=(5,3))\n",
    "print(y)\n",
    "t = np.array([0, 2, 1, 2, 1])\n",
    "y[np.arange(y.shape[0]), t]\n",
    "np.log(0.09)\n"
   ]
  },
  {
   "cell_type": "code",
   "execution_count": 3,
   "metadata": {},
   "outputs": [
    {
     "data": {
      "text/plain": [
       "array([40, 66, 84, 59,  3, 31, 35, 44, 51, 61, 89, 60, 50, 75, 97, 70, 14,\n",
       "       58, 72, 67, 46,  3, 94, 44, 68, 82, 61, 68, 67, 47, 78, 47,  7, 11,\n",
       "       92, 48, 14, 11, 53, 89, 11, 39, 74, 65, 14, 27, 37, 20,  5, 43])"
      ]
     },
     "execution_count": 3,
     "metadata": {},
     "output_type": "execute_result"
    }
   ],
   "source": [
    "# 랜덤으로(0~99)사이의 50개의 원소를 갖는 배열 생성\n",
    "np.random.choice(100, 50)"
   ]
  },
  {
   "cell_type": "code",
   "execution_count": 16,
   "metadata": {},
   "outputs": [
    {
     "data": {
      "text/plain": [
       "array([2.80719214, 2.41315958, 2.95459538])"
      ]
     },
     "execution_count": 16,
     "metadata": {},
     "output_type": "execute_result"
    }
   ],
   "source": [
    "np.sum(y, axis=0)"
   ]
  },
  {
   "cell_type": "code",
   "execution_count": 9,
   "metadata": {},
   "outputs": [
    {
     "name": "stdout",
     "output_type": "stream",
     "text": [
      "[[1. 0. 0. 0. 0. 0. 0. 0. 0. 0.]]\n",
      "[]\n"
     ]
    }
   ],
   "source": [
    "arr = np.zeros((1,10))\n",
    "arr[0, 0] = 1\n",
    "print(arr)\n",
    "\n",
    "arr = np.empty((0, 10), int)\n",
    "print(arr)"
   ]
  },
  {
   "cell_type": "code",
   "execution_count": 17,
   "metadata": {},
   "outputs": [
    {
     "name": "stdout",
     "output_type": "stream",
     "text": [
      "[[0.41813702 0.11545386 0.34513503]\n",
      " [0.59952392 0.80031804 0.38517773]]\n",
      "[[-0.87194587 -0.         -0.        ]\n",
      " [-0.         -0.22274595 -0.        ]]\n",
      "[-0.87194587 -0.22274595]\n"
     ]
    }
   ],
   "source": [
    "y = np.random.uniform(low=0, high=1, size=(2,3))\n",
    "t = np.zeros((2,3))\n",
    "t[0][0] = 1\n",
    "t[1][1] = 1\n",
    "\n",
    "print(y)\n",
    "\n",
    "delta = 1e-7\n",
    "# np.log(x) (x>0)\n",
    "e1 = t*np.log(y+delta)\n",
    "print(e1)\n",
    "print(np.sum(e1, axis=1))"
   ]
  },
  {
   "cell_type": "code",
   "execution_count": 4,
   "metadata": {},
   "outputs": [
    {
     "name": "stdout",
     "output_type": "stream",
     "text": [
      "[False  True False  True False False  True False  True  True]\n"
     ]
    }
   ],
   "source": [
    "arr = np.random.choice(2, 10)\n",
    "tf_arr = arr > 0 # 마스킹\n",
    "print(tf_arr)"
   ]
  },
  {
   "cell_type": "code",
   "execution_count": 10,
   "metadata": {},
   "outputs": [
    {
     "name": "stdout",
     "output_type": "stream",
     "text": [
      "[[0 1]\n",
      " [2 3]]\n",
      "[[4 5]\n",
      " [6 7]]\n"
     ]
    },
    {
     "data": {
      "text/plain": [
       "array([[ 6,  7],\n",
       "       [26, 31]])"
      ]
     },
     "execution_count": 10,
     "metadata": {},
     "output_type": "execute_result"
    }
   ],
   "source": [
    "a = np.arange(4).reshape((2,2))\n",
    "b = np.arange(4, 8, 1).reshape((2,2))\n",
    "\n",
    "print(a)\n",
    "print(b)\n",
    "\n",
    "np.dot(a,b)"
   ]
  },
  {
   "cell_type": "markdown",
   "metadata": {},
   "source": [
    "## Numpy AXIS(축)의 이해"
   ]
  },
  {
   "cell_type": "code",
   "execution_count": 30,
   "metadata": {},
   "outputs": [
    {
     "name": "stdout",
     "output_type": "stream",
     "text": [
      "[[[1. 1. 1. 1.]\n",
      "  [1. 1. 1. 1.]\n",
      "  [1. 1. 1. 1.]]\n",
      "\n",
      " [[1. 1. 1. 1.]\n",
      "  [1. 1. 1. 1.]\n",
      "  [1. 1. 1. 1.]]]\n",
      "(2, 3, 4)\n"
     ]
    }
   ],
   "source": [
    "# (2,3,4) 의 1로 구성된 3차원 배열\n",
    "one = np.ones((2,3,4))\n",
    "print(one)\n",
    "print(one.shape)"
   ]
  },
  {
   "cell_type": "code",
   "execution_count": 28,
   "metadata": {},
   "outputs": [
    {
     "name": "stdout",
     "output_type": "stream",
     "text": [
      "(2, 3, 4)\n",
      "[[2. 2. 2. 2.]\n",
      " [2. 2. 2. 2.]\n",
      " [2. 2. 2. 2.]]\n",
      "(3, 4)\n",
      "[[3. 3. 3. 3.]\n",
      " [3. 3. 3. 3.]]\n",
      "(2, 4)\n",
      "[[4. 4. 4.]\n",
      " [4. 4. 4.]]\n",
      "(2, 3)\n"
     ]
    }
   ],
   "source": [
    "# 3차원 배열의 첫번째 축(Axis=0)를 기준으로 sum을 수행하면\n",
    "# (2,3,4) 행태의 첫번째 2가 가 날아가고 배열은 (3,4) 행태가된다. 즉 첫번째 차원 요소를 합해서 제거한다.\n",
    "#[[1. 1. 1. 1.]           [[1. 1. 1. 1.]       [[2. 2. 2. 2.]\n",
    "#  [1. 1. 1. 1.]     +     [1. 1. 1. 1.]    =    [2. 2. 2. 2.]\n",
    "#  [1. 1. 1. 1.]]          [1. 1. 1. 1.]]        [2. 2. 2. 2.]]\n",
    "sum0 = one.sum(axis=0)\n",
    "print(sum0)\n",
    "print(sum0.shape)\n",
    "\n",
    "\n",
    "# 3차원 배열의 첫번째 축(Axis=1)를 기준으로 sum을 수행하면\n",
    "# (2,3,4) 행태의 두번째 3가 가 날아가고 배열은 (2,4) 행태가된다. 즉 두번째 차원 요소를 합해서 제거한다.\n",
    "# 1행) [1. 1. 1. 1.] + [1. 1. 1. 1.] + [1. 1. 1. 1.] = [3. 3. 3. 3.]                                                       \n",
    "# 2행) [1. 1. 1. 1.] + [1. 1. 1. 1.] + [1. 1. 1. 1.] = [3. 3. 3. 3.]\n",
    "#                                ▼\n",
    "#                         [[3. 3. 3. 3.]\n",
    "#                          [3. 3. 3. 3.]]\n",
    "\n",
    "sum1 = one.sum(axis=1)\n",
    "print(sum1)\n",
    "print(sum1.shape)\n",
    "\n",
    "\n",
    "# 3차원 배열의 첫번째 축(Axis=2)를 기준으로 sum을 수행하면\n",
    "# (2,3,4) 행태의 세번째 4가 가 날아가고 배열은 (2,3) 행태가된다. 즉 세번째 차원 요소를 합해서 제거한다.\n",
    "# 1행) [1 + 1 + 1 + 1], [1 + 1 + 1 + 1] , [1 + 1 + 1 + 1] = [4. 4. 4.]                                                       \n",
    "# 2행) [1 + 1 + 1 + 1], [1 + 1 + 1 + 1] , [1 + 1 + 1 + 1] = [4. 4. 4.]\n",
    "#                                ▼\n",
    "#                         [[4. 4. 4.]\n",
    "#                          [4. 4. 4.]]\n",
    "\n",
    "sum2 = one.sum(axis=2)\n",
    "print(sum2)\n",
    "print(sum2.shape)\n"
   ]
  },
  {
   "cell_type": "code",
   "execution_count": null,
   "metadata": {},
   "outputs": [],
   "source": []
  }
 ],
 "metadata": {
  "kernelspec": {
   "display_name": "Python 3.9.7 ('rfBasic')",
   "language": "python",
   "name": "python3"
  },
  "language_info": {
   "codemirror_mode": {
    "name": "ipython",
    "version": 3
   },
   "file_extension": ".py",
   "mimetype": "text/x-python",
   "name": "python",
   "nbconvert_exporter": "python",
   "pygments_lexer": "ipython3",
   "version": "3.9.7"
  },
  "orig_nbformat": 4,
  "vscode": {
   "interpreter": {
    "hash": "95d65aac4a209d7f6f477bff3bf0d30402813baf4a07fcd4786092f0b3bc81ae"
   }
  }
 },
 "nbformat": 4,
 "nbformat_minor": 2
}
