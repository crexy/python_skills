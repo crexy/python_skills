{
 "cells": [
  {
   "cell_type": "code",
   "execution_count": 9,
   "metadata": {},
   "outputs": [
    {
     "name": "stdout",
     "output_type": "stream",
     "text": [
      "0, 15\n",
      "1, 14\n",
      "2, 13\n",
      "3, 12\n",
      "4, 11\n",
      "5, 10\n",
      "[19, 11, 12, 13, 14, 15]\n"
     ]
    }
   ],
   "source": [
    "list_reward = [10, 11, 12, 13, 14, 15]\n",
    "for i, reward in enumerate(reversed(list_reward)):\n",
    "    print(f\"{i}, {reward}\")\n"
   ]
  },
  {
   "cell_type": "code",
   "execution_count": 2,
   "metadata": {},
   "outputs": [],
   "source": [
    "import numpy as np"
   ]
  },
  {
   "cell_type": "code",
   "execution_count": 10,
   "metadata": {},
   "outputs": [
    {
     "name": "stdout",
     "output_type": "stream",
     "text": [
      "15, 0.0\n",
      "15.0\n",
      "14, 13.5\n",
      "27.5\n",
      "13, 24.75\n",
      "37.75\n",
      "12, 33.975\n",
      "45.975\n",
      "11, 41.377500000000005\n",
      "52.377500000000005\n",
      "19, 47.13975000000001\n",
      "66.13975\n",
      "[66.13975 52.3775  45.975   37.75    27.5     15.     ]\n"
     ]
    }
   ],
   "source": [
    "d_rewards = [ 0. for x in list_reward]\n",
    "Gt = 0\n",
    "list_size = len(list_reward)\n",
    "for i, reward in enumerate(reversed(list_reward)):\n",
    "    \n",
    "    print(f\"{reward}, {0.9*Gt}\")\n",
    "    Gt = reward + 0.9*Gt\n",
    "    print(f\"{Gt}\")\n",
    "    d_rewards[list_size-1-i] = Gt\n",
    "\n",
    "print(np.array(d_rewards))"
   ]
  },
  {
   "cell_type": "code",
   "execution_count": null,
   "metadata": {},
   "outputs": [],
   "source": []
  }
 ],
 "metadata": {
  "kernelspec": {
   "display_name": "Python 3.9.7 ('rfBasic')",
   "language": "python",
   "name": "python3"
  },
  "language_info": {
   "codemirror_mode": {
    "name": "ipython",
    "version": 3
   },
   "file_extension": ".py",
   "mimetype": "text/x-python",
   "name": "python",
   "nbconvert_exporter": "python",
   "pygments_lexer": "ipython3",
   "version": "3.9.7"
  },
  "orig_nbformat": 4,
  "vscode": {
   "interpreter": {
    "hash": "95d65aac4a209d7f6f477bff3bf0d30402813baf4a07fcd4786092f0b3bc81ae"
   }
  }
 },
 "nbformat": 4,
 "nbformat_minor": 2
}
