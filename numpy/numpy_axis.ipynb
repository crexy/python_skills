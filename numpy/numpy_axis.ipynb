{
 "cells": [
  {
   "cell_type": "markdown",
   "metadata": {},
   "source": [
    "## Numpy AXIS(축)의 이해"
   ]
  },
  {
   "cell_type": "code",
   "execution_count": null,
   "metadata": {},
   "outputs": [
    {
     "name": "stdout",
     "output_type": "stream",
     "text": [
      "[[[1. 1. 1. 1.]\n",
      "  [1. 1. 1. 1.]\n",
      "  [1. 1. 1. 1.]]\n",
      "\n",
      " [[1. 1. 1. 1.]\n",
      "  [1. 1. 1. 1.]\n",
      "  [1. 1. 1. 1.]]]\n",
      "(2, 3, 4)\n"
     ]
    }
   ],
   "source": [
    "# (2,3,4) 의 1로 구성된 3차원 배열\n",
    "one = np.ones((2,3,4))\n",
    "print(one)\n",
    "print(one.shape)"
   ]
  },
  {
   "cell_type": "code",
   "execution_count": null,
   "metadata": {},
   "outputs": [
    {
     "name": "stdout",
     "output_type": "stream",
     "text": [
      "(2, 3, 4)\n",
      "[[2. 2. 2. 2.]\n",
      " [2. 2. 2. 2.]\n",
      " [2. 2. 2. 2.]]\n",
      "(3, 4)\n",
      "[[3. 3. 3. 3.]\n",
      " [3. 3. 3. 3.]]\n",
      "(2, 4)\n",
      "[[4. 4. 4.]\n",
      " [4. 4. 4.]]\n",
      "(2, 3)\n"
     ]
    }
   ],
   "source": [
    "# 3차원 배열의 첫번째 축(Axis=0)를 기준으로 sum을 수행하면\n",
    "# (2,3,4) 행태의 첫번째 2가 가 날아가고 배열은 (3,4) 행태가된다. 즉 첫번째 차원 요소를 합해서 제거한다.\n",
    "#[[1. 1. 1. 1.]           [[1. 1. 1. 1.]       [[2. 2. 2. 2.]\n",
    "#  [1. 1. 1. 1.]     +     [1. 1. 1. 1.]    =    [2. 2. 2. 2.]\n",
    "#  [1. 1. 1. 1.]]          [1. 1. 1. 1.]]        [2. 2. 2. 2.]]\n",
    "sum0 = one.sum(axis=0)\n",
    "print(sum0)\n",
    "print(sum0.shape)\n",
    "\n",
    "\n",
    "# 3차원 배열의 첫번째 축(Axis=1)를 기준으로 sum을 수행하면\n",
    "# (2,3,4) 행태의 두번째 3가 가 날아가고 배열은 (2,4) 행태가된다. 즉 두번째 차원 요소를 합해서 제거한다.\n",
    "# 1행) [1. 1. 1. 1.] + [1. 1. 1. 1.] + [1. 1. 1. 1.] = [3. 3. 3. 3.]                                                       \n",
    "# 2행) [1. 1. 1. 1.] + [1. 1. 1. 1.] + [1. 1. 1. 1.] = [3. 3. 3. 3.]\n",
    "#                                ▼\n",
    "#                         [[3. 3. 3. 3.]\n",
    "#                          [3. 3. 3. 3.]]\n",
    "\n",
    "sum1 = one.sum(axis=1)\n",
    "print(sum1)\n",
    "print(sum1.shape)\n",
    "\n",
    "\n",
    "# 3차원 배열의 첫번째 축(Axis=2)를 기준으로 sum을 수행하면\n",
    "# (2,3,4) 행태의 세번째 4가 가 날아가고 배열은 (2,3) 행태가된다. 즉 세번째 차원 요소를 합해서 제거한다.\n",
    "# 1행) [1 + 1 + 1 + 1], [1 + 1 + 1 + 1] , [1 + 1 + 1 + 1] = [4. 4. 4.]                                                       \n",
    "# 2행) [1 + 1 + 1 + 1], [1 + 1 + 1 + 1] , [1 + 1 + 1 + 1] = [4. 4. 4.]\n",
    "#                                ▼\n",
    "#                         [[4. 4. 4.]\n",
    "#                          [4. 4. 4.]]\n",
    "\n",
    "sum2 = one.sum(axis=2)\n",
    "print(sum2)\n",
    "print(sum2.shape)\n"
   ]
  },
  {
   "cell_type": "markdown",
   "metadata": {},
   "source": [
    "## np.min()함수를 통해 이해하는 axis\n",
    "<p>v 샘플데이터</p>\n",
    "<img src=\"./images/np_min_data.png\" width=\"20%\">\n",
    "\n",
    "<p>v axis=2 연산</p>\n",
    "<p>2축 간의 데이터 중 최소값을 찾아 축내의 데이터를 1개로 만들어 1축을 제거</p>\n",
    "<img src=\"./images/np_min_axis_2.png\" width=\"50%\">\n",
    "\n",
    "<p>v axis=1 연산</p>\n",
    "<p>1축 간의 데이터 중에서 최소값을 찾아 축내의 하위 차원을 1개로 만들어 1축을 제거</p>\n",
    "<img src=\"./images/np_min_axis_1.png\" width=\"50%\">\n",
    "\n",
    "<p>v axis=0 연산</p>\n",
    "<p>0축에 포함된 3개의 하위차원 원소들을 각각 비교하여 최소값을 찾아 기존 3개 였던 0축의 하위차원을 하나로 만들어 0축을 제거</p>\n",
    "<img src=\"./images/np_min_axis_0.png\" width=\"50%\">\n",
    "\n",
    "<p>v axis=(0, 1) 연산</p>\n",
    "<img src=\"./images/np_min_axis_01.png\" width=\"100%\">\n",
    "\n",
    "<p>v axis=(1, 2) 연산</p>\n",
    "<img src=\"./images/np_min_axis_12.png\" width=\"100%\">\n",
    "\n",
    "<p>v axis=(2, 0) 연산</p>\n",
    "<img src=\"./images/np_min_axis_20.png\" width=\"100%\">"
   ]
  },
  {
   "cell_type": "code",
   "execution_count": null,
   "metadata": {},
   "outputs": [
    {
     "name": "stdout",
     "output_type": "stream",
     "text": [
      "[[[63 99 96]\n",
      "  [86 25 63]\n",
      "  [33 48 21]]\n",
      "\n",
      " [[69  1 34]\n",
      "  [32 74 92]\n",
      "  [64 21 61]]\n",
      "\n",
      " [[66 27 55]\n",
      "  [72 26 58]\n",
      "  [84 50  8]]]\n",
      "np.min(array, axis=(2)\n",
      "[[63 25 21]\n",
      " [ 1 32 21]\n",
      " [27 26  8]]\n",
      "np.min(array, axis=(1)\n",
      "[[33 25 21]\n",
      " [32  1 34]\n",
      " [66 26  8]]\n",
      "np.min(array, axis=(0)\n",
      "[[63  1 34]\n",
      " [32 25 58]\n",
      " [33 21  8]]\n",
      "np.min(array, axis=(1,2)\n",
      "[21  1  8]\n",
      "np.min(array, axis=(2,1)\n",
      "[21  1  8]\n",
      "np.min(array, axis=(0,1)\n",
      "[32  1  8]\n",
      "np.min(array, axis=(1,0)\n",
      "[32  1  8]\n",
      "np.min(array, axis=(0,2)\n",
      "[ 1 25  8]\n",
      "np.min(array, axis=(2,0)\n",
      "[ 1 25  8]\n"
     ]
    }
   ],
   "source": [
    "# axis=(a, b) 이해\n",
    "arr = np.random.choice(100, (3,3,3))\n",
    "print(arr)\n",
    "\n",
    "min_axis2 = np.min(arr, axis=(2))\n",
    "print(\"np.min(array, axis=(2)\")\n",
    "print(min_axis2)\n",
    "min_axis1 = np.min(arr, axis=(1))\n",
    "print(\"np.min(array, axis=(1)\")\n",
    "print(min_axis1)\n",
    "min_axis0 = np.min(arr, axis=(0))\n",
    "print(\"np.min(array, axis=(0)\")\n",
    "print(min_axis0)\n",
    "\n",
    "\n",
    "min_axis1a2 = np.min(arr, axis=(1,2))\n",
    "print(\"np.min(array, axis=(1,2)\")\n",
    "print(min_axis1a2)\n",
    "\n",
    "min_axis2a1 = np.min(arr, axis=(2,1))\n",
    "print(\"np.min(array, axis=(2,1)\")\n",
    "print(min_axis2a1)\n",
    "\n",
    "min_axis0a1 = np.min(arr, axis=(0,1))\n",
    "print(\"np.min(array, axis=(0,1)\")\n",
    "print(min_axis0a1)\n",
    "\n",
    "min_axis1a0 = np.min(arr, axis=(1,0))\n",
    "print(\"np.min(array, axis=(1,0)\")\n",
    "print(min_axis1a0)\n",
    "\n",
    "min_axis0a2 = np.min(arr, axis=(0,2))\n",
    "print(\"np.min(array, axis=(0,2)\")\n",
    "print(min_axis0a2)\n",
    "\n",
    "min_axis2a0 = np.min(arr, axis=(2,0))\n",
    "print(\"np.min(array, axis=(2,0)\")\n",
    "print(min_axis2a0)"
   ]
  }
 ],
 "metadata": {
  "kernelspec": {
   "display_name": "Python 3.9.7 ('rfBasic')",
   "language": "python",
   "name": "python3"
  },
  "language_info": {
   "name": "python",
   "version": "3.9.7 (default, Sep 16 2021, 16:59:28) [MSC v.1916 64 bit (AMD64)]"
  },
  "orig_nbformat": 4,
  "vscode": {
   "interpreter": {
    "hash": "95d65aac4a209d7f6f477bff3bf0d30402813baf4a07fcd4786092f0b3bc81ae"
   }
  }
 },
 "nbformat": 4,
 "nbformat_minor": 2
}
