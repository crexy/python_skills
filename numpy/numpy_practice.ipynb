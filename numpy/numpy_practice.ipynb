{
 "cells": [
  {
   "cell_type": "code",
   "execution_count": 2,
   "metadata": {},
   "outputs": [],
   "source": [
    "import numpy as np"
   ]
  },
  {
   "cell_type": "code",
   "execution_count": 13,
   "metadata": {},
   "outputs": [
    {
     "name": "stdout",
     "output_type": "stream",
     "text": [
      "[23609 29220 11586 37243 52773 39981 58476 41216 52174  8536  9651 26293\n",
      " 48986 11546 25386 38973 52832  6406  9579 44687 38971 59901  2476  6577\n",
      " 56599 46267 32898 12908 40703 40534 23453  6409 40401 15146 33732 46585\n",
      " 25023 22364 15181 55402 56031 24007 40712   892 32712  9587 55900 41444\n",
      " 56462 57003 26225 16435 26639  4980 50306 59222 27964 16132  3676 28039\n",
      " 52070 20557 46527  1143 57590 33194 12477 36455 41751 39110 46646 55748\n",
      " 57311 24017 40678  1854 24169 35672 30914 18341 45402 49349    58 14882\n",
      " 58852 31185 50143 54496 59664 28936  1029 31474 46643 40486 53565 53344\n",
      " 53552 25011 13730 36839]\n",
      "(100, 784)\n",
      "[[100  67 147 ... 249   4 159]\n",
      " [  5 162  81 ... 100 107 159]\n",
      " [169   1  82 ... 186 147 119]\n",
      " ...\n",
      " [ 33  29 158 ... 156  45 210]\n",
      " [136   1  18 ... 237 228  79]\n",
      " [ 16   7  20 ... 145 101  12]]\n"
     ]
    }
   ],
   "source": [
    "# 마스킹 수행\n",
    "arr = np.random.randn(10, 5)  #  가우시안 표준 정규 분포에서 난수 matrix array생성\n",
    "mask = np.random.choice(2, 10) # 0,1 로된 10개 원소로된 배열 생성\n",
    "# arr = np.random.choice(2, (2,3)) => (2,3) 행렬 생성\n",
    "#print(arr[mask>0])\n",
    "\n",
    "x_train = np.random.choice(256, (60000, 784))\n",
    "batch_size = 100\n",
    "mask = np.random.choice(x_train.shape[0], batch_size)\n",
    "x_batch = x_train[mask]\n",
    "print(mask)\n",
    "print(x_batch.shape)\n",
    "print(x_batch)\n"
   ]
  },
  {
   "cell_type": "code",
   "execution_count": 3,
   "metadata": {},
   "outputs": [
    {
     "name": "stdout",
     "output_type": "stream",
     "text": [
      "[[8.25647356e-01 9.86144540e-01 4.20728259e-04]\n",
      " [2.63463482e-01 7.78686958e-01 7.40818429e-01]\n",
      " [2.79943460e-01 5.61488499e-01 6.57844129e-01]\n",
      " [8.25124314e-01 8.54676385e-02 6.86121867e-01]\n",
      " [1.62839117e-01 7.30425223e-01 6.57519011e-01]]\n"
     ]
    },
    {
     "data": {
      "text/plain": [
       "array([0.82564736, 0.74081843, 0.5614885 , 0.68612187, 0.73042522])"
      ]
     },
     "execution_count": 3,
     "metadata": {},
     "output_type": "execute_result"
    }
   ],
   "source": [
    "# 넘파이 색인 추출 방법\n",
    "y = np.random.uniform(low=0, high=1, size=(5,3))\n",
    "print(y)\n",
    "t = np.array([0, 2, 1, 2, 1])\n",
    "y[np.arange(y.shape[0]), t]\n",
    "#np.log(0.09)\n"
   ]
  },
  {
   "cell_type": "code",
   "execution_count": 3,
   "metadata": {},
   "outputs": [
    {
     "data": {
      "text/plain": [
       "array([40, 66, 84, 59,  3, 31, 35, 44, 51, 61, 89, 60, 50, 75, 97, 70, 14,\n",
       "       58, 72, 67, 46,  3, 94, 44, 68, 82, 61, 68, 67, 47, 78, 47,  7, 11,\n",
       "       92, 48, 14, 11, 53, 89, 11, 39, 74, 65, 14, 27, 37, 20,  5, 43])"
      ]
     },
     "execution_count": 3,
     "metadata": {},
     "output_type": "execute_result"
    }
   ],
   "source": [
    "# 랜덤으로(0~99)사이의 50개의 원소를 갖는 배열 생성\n",
    "np.random.choice(100, 50)"
   ]
  },
  {
   "cell_type": "code",
   "execution_count": 16,
   "metadata": {},
   "outputs": [
    {
     "data": {
      "text/plain": [
       "array([2.80719214, 2.41315958, 2.95459538])"
      ]
     },
     "execution_count": 16,
     "metadata": {},
     "output_type": "execute_result"
    }
   ],
   "source": [
    "np.sum(y, axis=0)"
   ]
  },
  {
   "cell_type": "code",
   "execution_count": 9,
   "metadata": {},
   "outputs": [
    {
     "name": "stdout",
     "output_type": "stream",
     "text": [
      "[[1. 0. 0. 0. 0. 0. 0. 0. 0. 0.]]\n",
      "[]\n"
     ]
    }
   ],
   "source": [
    "arr = np.zeros((1,10))\n",
    "arr[0, 0] = 1\n",
    "print(arr)\n",
    "\n",
    "arr = np.empty((0, 10), int)\n",
    "print(arr)"
   ]
  },
  {
   "cell_type": "code",
   "execution_count": 5,
   "metadata": {},
   "outputs": [
    {
     "name": "stdout",
     "output_type": "stream",
     "text": [
      "y: \n",
      "[[0.86767289 0.03754838 0.19354115]\n",
      " [0.16299771 0.58652077 0.84423812]]\n",
      "e1: \n",
      "[[-0.14194038 -0.         -0.        ]\n",
      " [-0.         -0.53354703 -0.        ]]\n",
      "sum cross entropy error: \n",
      "[-0.14194038 -0.53354703]\n"
     ]
    }
   ],
   "source": [
    "y = np.random.uniform(low=0, high=1, size=(2,3))\n",
    "t = np.zeros((2,3))\n",
    "t[0][0] = 1\n",
    "t[1][1] = 1\n",
    "print(\"y: \")\n",
    "print(y)\n",
    "\n",
    "delta = 1e-7 # log(0) 방지용\n",
    "# np.log(x) (x>0)\n",
    "e1 = t*np.log(y+delta) # cross entropy error\n",
    "print(\"e1: \")\n",
    "print(e1)\n",
    "# sum( cross entropy error )\n",
    "print(\"sum cross entropy error: \")\n",
    "print(np.sum(e1, axis=1))"
   ]
  },
  {
   "cell_type": "code",
   "execution_count": 4,
   "metadata": {},
   "outputs": [
    {
     "name": "stdout",
     "output_type": "stream",
     "text": [
      "[False  True False  True False False  True False  True  True]\n"
     ]
    }
   ],
   "source": [
    "arr = np.random.choice(2, 10)\n",
    "tf_arr = arr > 0 # 마스킹\n",
    "print(tf_arr)"
   ]
  },
  {
   "cell_type": "code",
   "execution_count": 10,
   "metadata": {},
   "outputs": [
    {
     "name": "stdout",
     "output_type": "stream",
     "text": [
      "[[0 1]\n",
      " [2 3]]\n",
      "[[4 5]\n",
      " [6 7]]\n"
     ]
    },
    {
     "data": {
      "text/plain": [
       "array([[ 6,  7],\n",
       "       [26, 31]])"
      ]
     },
     "execution_count": 10,
     "metadata": {},
     "output_type": "execute_result"
    }
   ],
   "source": [
    "a = np.arange(4).reshape((2,2))\n",
    "b = np.arange(4, 8, 1).reshape((2,2))\n",
    "\n",
    "print(a)\n",
    "print(b)\n",
    "\n",
    "np.dot(a,b)"
   ]
  },
  {
   "cell_type": "code",
   "execution_count": 3,
   "metadata": {},
   "outputs": [
    {
     "data": {
      "text/plain": [
       "array([0.1, 0.2, 0.3, 0.4, 0.5, 0.6, 0.7, 0.8, 0.9, 1. , 1.1, 1.2, 1.3,\n",
       "       1.4, 1.5, 1.6, 1.7, 1.8, 1.9, 2. , 2.1, 2.2, 2.3, 2.4, 2.5, 2.6,\n",
       "       2.7, 2.8, 2.9, 3. , 3.1, 3.2, 3.3, 3.4, 3.5, 3.6, 3.7, 3.8, 3.9,\n",
       "       4. , 4.1, 4.2, 4.3, 4.4, 4.5, 4.6, 4.7, 4.8])"
      ]
     },
     "execution_count": 3,
     "metadata": {},
     "output_type": "execute_result"
    }
   ],
   "source": [
    "# np.linspace(start, end, num)\n",
    "# I makes 48 values from 0.1 to 4.8\n",
    "np_sam = np.linspace(0.1, 4.8, num = 48)\n",
    "np_sam"
   ]
  },
  {
   "cell_type": "code",
   "execution_count": 6,
   "metadata": {},
   "outputs": [
    {
     "name": "stdout",
     "output_type": "stream",
     "text": [
      "[[[10  1  1  1  1]\n",
      "  [10  2  2  2  2]\n",
      "  [10  3  3  3  3]]\n",
      "\n",
      " [[10  4  4  4  4]\n",
      "  [10  5  5  5  5]\n",
      "  [10  6  6  6  6]]]\n"
     ]
    }
   ],
   "source": [
    "# np.insert() 행렬에 값 삽입하기\n",
    "array = np.array([[[1, 1, 1, 1],\n",
    "               [2, 2, 2, 2],\n",
    "               [3, 3, 3, 3],],\n",
    "              \n",
    "              [[4, 4, 4, 4],\n",
    "               [5, 5, 5, 5],\n",
    "               [6, 6, 6, 6],]])\n",
    "\n",
    "result = np.insert(array, 0, 10, axis=2)\n",
    "print(result)"
   ]
  },
  {
   "cell_type": "code",
   "execution_count": null,
   "metadata": {},
   "outputs": [],
   "source": []
  }
 ],
 "metadata": {
  "kernelspec": {
   "display_name": "Python 3.9.7 64-bit",
   "language": "python",
   "name": "python3"
  },
  "language_info": {
   "codemirror_mode": {
    "name": "ipython",
    "version": 3
   },
   "file_extension": ".py",
   "mimetype": "text/x-python",
   "name": "python",
   "nbconvert_exporter": "python",
   "pygments_lexer": "ipython3",
   "version": "3.9.7"
  },
  "orig_nbformat": 4,
  "vscode": {
   "interpreter": {
    "hash": "43a9cb4311cfb6ce87f097d23364c04acc90613d1bdeee77add736dc4bb20149"
   }
  }
 },
 "nbformat": 4,
 "nbformat_minor": 2
}
