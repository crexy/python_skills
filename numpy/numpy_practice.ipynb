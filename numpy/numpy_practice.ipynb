{
 "cells": [
  {
   "cell_type": "code",
   "execution_count": 1,
   "metadata": {},
   "outputs": [],
   "source": [
    "import numpy as np"
   ]
  },
  {
   "cell_type": "code",
   "execution_count": 13,
   "metadata": {},
   "outputs": [
    {
     "name": "stdout",
     "output_type": "stream",
     "text": [
      "[23609 29220 11586 37243 52773 39981 58476 41216 52174  8536  9651 26293\n",
      " 48986 11546 25386 38973 52832  6406  9579 44687 38971 59901  2476  6577\n",
      " 56599 46267 32898 12908 40703 40534 23453  6409 40401 15146 33732 46585\n",
      " 25023 22364 15181 55402 56031 24007 40712   892 32712  9587 55900 41444\n",
      " 56462 57003 26225 16435 26639  4980 50306 59222 27964 16132  3676 28039\n",
      " 52070 20557 46527  1143 57590 33194 12477 36455 41751 39110 46646 55748\n",
      " 57311 24017 40678  1854 24169 35672 30914 18341 45402 49349    58 14882\n",
      " 58852 31185 50143 54496 59664 28936  1029 31474 46643 40486 53565 53344\n",
      " 53552 25011 13730 36839]\n",
      "(100, 784)\n",
      "[[100  67 147 ... 249   4 159]\n",
      " [  5 162  81 ... 100 107 159]\n",
      " [169   1  82 ... 186 147 119]\n",
      " ...\n",
      " [ 33  29 158 ... 156  45 210]\n",
      " [136   1  18 ... 237 228  79]\n",
      " [ 16   7  20 ... 145 101  12]]\n"
     ]
    }
   ],
   "source": [
    "# 마스킹 수행\n",
    "arr = np.random.randn(10, 5)  #  가우시안 표준 정규 분포에서 난수 matrix array생성\n",
    "mask = np.random.choice(2, 10) # 0,1 로된 10개 원소로된 배열 생성\n",
    "# arr = np.random.choice(2, (2,3)) => (2,3) 행렬 생성\n",
    "#print(arr[mask>0])\n",
    "\n",
    "x_train = np.random.choice(256, (60000, 784))\n",
    "batch_size = 100\n",
    "mask = np.random.choice(x_train.shape[0], batch_size)\n",
    "x_batch = x_train[mask]\n",
    "print(mask)\n",
    "print(x_batch.shape)\n",
    "print(x_batch)\n"
   ]
  },
  {
   "cell_type": "code",
   "execution_count": 10,
   "metadata": {},
   "outputs": [
    {
     "name": "stdout",
     "output_type": "stream",
     "text": [
      "[[0.35933313 0.98033738 0.75179272]\n",
      " [0.61854777 0.69154466 0.94104401]\n",
      " [0.7751151  0.54588286 0.95413146]\n",
      " [0.54519846 0.98297737 0.59005639]\n",
      " [0.25156742 0.49114662 0.27117579]]\n"
     ]
    },
    {
     "data": {
      "text/plain": [
       "-2.4079456086518722"
      ]
     },
     "execution_count": 10,
     "metadata": {},
     "output_type": "execute_result"
    }
   ],
   "source": [
    "# 넘파이 색인 추출 방법\n",
    "y = np.random.uniform(low=0, high=1, size=(5,3))\n",
    "print(y)\n",
    "t = np.array([0, 2, 1, 2, 1])\n",
    "y[np.arange(y.shape[0]), t]\n",
    "np.log(0.09)\n"
   ]
  },
  {
   "cell_type": "code",
   "execution_count": 3,
   "metadata": {},
   "outputs": [
    {
     "data": {
      "text/plain": [
       "array([40, 66, 84, 59,  3, 31, 35, 44, 51, 61, 89, 60, 50, 75, 97, 70, 14,\n",
       "       58, 72, 67, 46,  3, 94, 44, 68, 82, 61, 68, 67, 47, 78, 47,  7, 11,\n",
       "       92, 48, 14, 11, 53, 89, 11, 39, 74, 65, 14, 27, 37, 20,  5, 43])"
      ]
     },
     "execution_count": 3,
     "metadata": {},
     "output_type": "execute_result"
    }
   ],
   "source": [
    "# 랜덤으로(0~99)사이의 50개의 원소를 갖는 배열 생성\n",
    "np.random.choice(100, 50)"
   ]
  },
  {
   "cell_type": "code",
   "execution_count": 16,
   "metadata": {},
   "outputs": [
    {
     "data": {
      "text/plain": [
       "array([2.80719214, 2.41315958, 2.95459538])"
      ]
     },
     "execution_count": 16,
     "metadata": {},
     "output_type": "execute_result"
    }
   ],
   "source": [
    "np.sum(y, axis=0)"
   ]
  },
  {
   "cell_type": "code",
   "execution_count": 9,
   "metadata": {},
   "outputs": [
    {
     "name": "stdout",
     "output_type": "stream",
     "text": [
      "[[1. 0. 0. 0. 0. 0. 0. 0. 0. 0.]]\n",
      "[]\n"
     ]
    }
   ],
   "source": [
    "arr = np.zeros((1,10))\n",
    "arr[0, 0] = 1\n",
    "print(arr)\n",
    "\n",
    "arr = np.empty((0, 10), int)\n",
    "print(arr)"
   ]
  },
  {
   "cell_type": "code",
   "execution_count": 17,
   "metadata": {},
   "outputs": [
    {
     "name": "stdout",
     "output_type": "stream",
     "text": [
      "[[0.41813702 0.11545386 0.34513503]\n",
      " [0.59952392 0.80031804 0.38517773]]\n",
      "[[-0.87194587 -0.         -0.        ]\n",
      " [-0.         -0.22274595 -0.        ]]\n",
      "[-0.87194587 -0.22274595]\n"
     ]
    }
   ],
   "source": [
    "y = np.random.uniform(low=0, high=1, size=(2,3))\n",
    "t = np.zeros((2,3))\n",
    "t[0][0] = 1\n",
    "t[1][1] = 1\n",
    "\n",
    "print(y)\n",
    "\n",
    "delta = 1e-7\n",
    "# np.log(x) (x>0)\n",
    "e1 = t*np.log(y+delta)\n",
    "print(e1)\n",
    "print(np.sum(e1, axis=1))"
   ]
  },
  {
   "cell_type": "code",
   "execution_count": 4,
   "metadata": {},
   "outputs": [
    {
     "name": "stdout",
     "output_type": "stream",
     "text": [
      "[False  True False  True False False  True False  True  True]\n"
     ]
    }
   ],
   "source": [
    "arr = np.random.choice(2, 10)\n",
    "tf_arr = arr > 0 # 마스킹\n",
    "print(tf_arr)"
   ]
  },
  {
   "cell_type": "code",
   "execution_count": 10,
   "metadata": {},
   "outputs": [
    {
     "name": "stdout",
     "output_type": "stream",
     "text": [
      "[[0 1]\n",
      " [2 3]]\n",
      "[[4 5]\n",
      " [6 7]]\n"
     ]
    },
    {
     "data": {
      "text/plain": [
       "array([[ 6,  7],\n",
       "       [26, 31]])"
      ]
     },
     "execution_count": 10,
     "metadata": {},
     "output_type": "execute_result"
    }
   ],
   "source": [
    "a = np.arange(4).reshape((2,2))\n",
    "b = np.arange(4, 8, 1).reshape((2,2))\n",
    "\n",
    "print(a)\n",
    "print(b)\n",
    "\n",
    "np.dot(a,b)"
   ]
  },
  {
   "cell_type": "markdown",
   "metadata": {},
   "source": [
    "## Numpy AXIS(축)의 이해"
   ]
  },
  {
   "cell_type": "code",
   "execution_count": 30,
   "metadata": {},
   "outputs": [
    {
     "name": "stdout",
     "output_type": "stream",
     "text": [
      "[[[1. 1. 1. 1.]\n",
      "  [1. 1. 1. 1.]\n",
      "  [1. 1. 1. 1.]]\n",
      "\n",
      " [[1. 1. 1. 1.]\n",
      "  [1. 1. 1. 1.]\n",
      "  [1. 1. 1. 1.]]]\n",
      "(2, 3, 4)\n"
     ]
    }
   ],
   "source": [
    "# (2,3,4) 의 1로 구성된 3차원 배열\n",
    "one = np.ones((2,3,4))\n",
    "print(one)\n",
    "print(one.shape)"
   ]
  },
  {
   "cell_type": "code",
   "execution_count": 28,
   "metadata": {},
   "outputs": [
    {
     "name": "stdout",
     "output_type": "stream",
     "text": [
      "(2, 3, 4)\n",
      "[[2. 2. 2. 2.]\n",
      " [2. 2. 2. 2.]\n",
      " [2. 2. 2. 2.]]\n",
      "(3, 4)\n",
      "[[3. 3. 3. 3.]\n",
      " [3. 3. 3. 3.]]\n",
      "(2, 4)\n",
      "[[4. 4. 4.]\n",
      " [4. 4. 4.]]\n",
      "(2, 3)\n"
     ]
    }
   ],
   "source": [
    "# 3차원 배열의 첫번째 축(Axis=0)를 기준으로 sum을 수행하면\n",
    "# (2,3,4) 행태의 첫번째 2가 가 날아가고 배열은 (3,4) 행태가된다. 즉 첫번째 차원 요소를 합해서 제거한다.\n",
    "#[[1. 1. 1. 1.]           [[1. 1. 1. 1.]       [[2. 2. 2. 2.]\n",
    "#  [1. 1. 1. 1.]     +     [1. 1. 1. 1.]    =    [2. 2. 2. 2.]\n",
    "#  [1. 1. 1. 1.]]          [1. 1. 1. 1.]]        [2. 2. 2. 2.]]\n",
    "sum0 = one.sum(axis=0)\n",
    "print(sum0)\n",
    "print(sum0.shape)\n",
    "\n",
    "\n",
    "# 3차원 배열의 첫번째 축(Axis=1)를 기준으로 sum을 수행하면\n",
    "# (2,3,4) 행태의 두번째 3가 가 날아가고 배열은 (2,4) 행태가된다. 즉 두번째 차원 요소를 합해서 제거한다.\n",
    "# 1행) [1. 1. 1. 1.] + [1. 1. 1. 1.] + [1. 1. 1. 1.] = [3. 3. 3. 3.]                                                       \n",
    "# 2행) [1. 1. 1. 1.] + [1. 1. 1. 1.] + [1. 1. 1. 1.] = [3. 3. 3. 3.]\n",
    "#                                ▼\n",
    "#                         [[3. 3. 3. 3.]\n",
    "#                          [3. 3. 3. 3.]]\n",
    "\n",
    "sum1 = one.sum(axis=1)\n",
    "print(sum1)\n",
    "print(sum1.shape)\n",
    "\n",
    "\n",
    "# 3차원 배열의 첫번째 축(Axis=2)를 기준으로 sum을 수행하면\n",
    "# (2,3,4) 행태의 세번째 4가 가 날아가고 배열은 (2,3) 행태가된다. 즉 세번째 차원 요소를 합해서 제거한다.\n",
    "# 1행) [1 + 1 + 1 + 1], [1 + 1 + 1 + 1] , [1 + 1 + 1 + 1] = [4. 4. 4.]                                                       \n",
    "# 2행) [1 + 1 + 1 + 1], [1 + 1 + 1 + 1] , [1 + 1 + 1 + 1] = [4. 4. 4.]\n",
    "#                                ▼\n",
    "#                         [[4. 4. 4.]\n",
    "#                          [4. 4. 4.]]\n",
    "\n",
    "sum2 = one.sum(axis=2)\n",
    "print(sum2)\n",
    "print(sum2.shape)\n"
   ]
  },
  {
   "cell_type": "markdown",
   "metadata": {},
   "source": [
    "## np.min()함수를 통해 이해하는 axis\n",
    "<p>v 샘플데이터</p>\n",
    "<img src=\"./images/np_min_data.png\" width=\"20%\">\n",
    "\n",
    "<p>v axis=2 연산</p>\n",
    "<p>2축 간의 데이터 중 최소값을 찾아 축내의 데이터를 1개로 만들어 1축을 제거</p>\n",
    "<img src=\"./images/np_min_axis_2.png\" width=\"50%\">\n",
    "\n",
    "<p>v axis=1 연산</p>\n",
    "<p>1축 간의 데이터 중에서 최소값을 찾아 축내의 하위 차원을 1개로 만들어 1축을 제거</p>\n",
    "<img src=\"./images/np_min_axis_1.png\" width=\"50%\">\n",
    "\n",
    "<p>v axis=0 연산</p>\n",
    "<p>0축에 포함된 3개의 하위차원 원소들을 각각 비교하여 최소값을 찾아 기존 3개 였던 0축의 하위차원을 하나로 만들어 0축을 제거</p>\n",
    "<img src=\"./images/np_min_axis_0.png\" width=\"50%\">\n",
    "\n",
    "<p>v axis=(0, 1) 연산</p>\n",
    "<img src=\"./images/np_min_axis_01.png\" width=\"100%\">\n",
    "\n",
    "<p>v axis=(1, 2) 연산</p>\n",
    "<img src=\"./images/np_min_axis_12.png\" width=\"100%\">\n",
    "\n",
    "<p>v axis=(2, 0) 연산</p>\n",
    "<img src=\"./images/np_min_axis_20.png\" width=\"100%\">"
   ]
  },
  {
   "cell_type": "code",
   "execution_count": 20,
   "metadata": {},
   "outputs": [
    {
     "name": "stdout",
     "output_type": "stream",
     "text": [
      "[[[63 99 96]\n",
      "  [86 25 63]\n",
      "  [33 48 21]]\n",
      "\n",
      " [[69  1 34]\n",
      "  [32 74 92]\n",
      "  [64 21 61]]\n",
      "\n",
      " [[66 27 55]\n",
      "  [72 26 58]\n",
      "  [84 50  8]]]\n",
      "np.min(array, axis=(2)\n",
      "[[63 25 21]\n",
      " [ 1 32 21]\n",
      " [27 26  8]]\n",
      "np.min(array, axis=(1)\n",
      "[[33 25 21]\n",
      " [32  1 34]\n",
      " [66 26  8]]\n",
      "np.min(array, axis=(0)\n",
      "[[63  1 34]\n",
      " [32 25 58]\n",
      " [33 21  8]]\n",
      "np.min(array, axis=(1,2)\n",
      "[21  1  8]\n",
      "np.min(array, axis=(2,1)\n",
      "[21  1  8]\n",
      "np.min(array, axis=(0,1)\n",
      "[32  1  8]\n",
      "np.min(array, axis=(1,0)\n",
      "[32  1  8]\n",
      "np.min(array, axis=(0,2)\n",
      "[ 1 25  8]\n",
      "np.min(array, axis=(2,0)\n",
      "[ 1 25  8]\n"
     ]
    }
   ],
   "source": [
    "# axis=(a, b) 이해\n",
    "arr = np.random.choice(100, (3,3,3))\n",
    "print(arr)\n",
    "\n",
    "min_axis2 = np.min(arr, axis=(2))\n",
    "print(\"np.min(array, axis=(2)\")\n",
    "print(min_axis2)\n",
    "min_axis1 = np.min(arr, axis=(1))\n",
    "print(\"np.min(array, axis=(1)\")\n",
    "print(min_axis1)\n",
    "min_axis0 = np.min(arr, axis=(0))\n",
    "print(\"np.min(array, axis=(0)\")\n",
    "print(min_axis0)\n",
    "\n",
    "\n",
    "min_axis1a2 = np.min(arr, axis=(1,2))\n",
    "print(\"np.min(array, axis=(1,2)\")\n",
    "print(min_axis1a2)\n",
    "\n",
    "min_axis2a1 = np.min(arr, axis=(2,1))\n",
    "print(\"np.min(array, axis=(2,1)\")\n",
    "print(min_axis2a1)\n",
    "\n",
    "min_axis0a1 = np.min(arr, axis=(0,1))\n",
    "print(\"np.min(array, axis=(0,1)\")\n",
    "print(min_axis0a1)\n",
    "\n",
    "min_axis1a0 = np.min(arr, axis=(1,0))\n",
    "print(\"np.min(array, axis=(1,0)\")\n",
    "print(min_axis1a0)\n",
    "\n",
    "min_axis0a2 = np.min(arr, axis=(0,2))\n",
    "print(\"np.min(array, axis=(0,2)\")\n",
    "print(min_axis0a2)\n",
    "\n",
    "min_axis2a0 = np.min(arr, axis=(2,0))\n",
    "print(\"np.min(array, axis=(2,0)\")\n",
    "print(min_axis2a0)"
   ]
  },
  {
   "cell_type": "code",
   "execution_count": null,
   "metadata": {},
   "outputs": [],
   "source": []
  },
  {
   "cell_type": "code",
   "execution_count": null,
   "metadata": {},
   "outputs": [],
   "source": []
  }
 ],
 "metadata": {
  "kernelspec": {
   "display_name": "Python 3.9.7 64-bit",
   "language": "python",
   "name": "python3"
  },
  "language_info": {
   "codemirror_mode": {
    "name": "ipython",
    "version": 3
   },
   "file_extension": ".py",
   "mimetype": "text/x-python",
   "name": "python",
   "nbconvert_exporter": "python",
   "pygments_lexer": "ipython3",
   "version": "3.9.7"
  },
  "orig_nbformat": 4,
  "vscode": {
   "interpreter": {
    "hash": "43a9cb4311cfb6ce87f097d23364c04acc90613d1bdeee77add736dc4bb20149"
   }
  }
 },
 "nbformat": 4,
 "nbformat_minor": 2
}
