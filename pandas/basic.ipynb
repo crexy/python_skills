{
 "cells": [
  {
   "cell_type": "code",
   "execution_count": 1,
   "metadata": {},
   "outputs": [],
   "source": [
    "import pandas as pd\n",
    "import talib as ta"
   ]
  },
  {
   "cell_type": "code",
   "execution_count": 2,
   "metadata": {},
   "outputs": [
    {
     "data": {
      "text/html": [
       "<div>\n",
       "<style scoped>\n",
       "    .dataframe tbody tr th:only-of-type {\n",
       "        vertical-align: middle;\n",
       "    }\n",
       "\n",
       "    .dataframe tbody tr th {\n",
       "        vertical-align: top;\n",
       "    }\n",
       "\n",
       "    .dataframe thead th {\n",
       "        text-align: right;\n",
       "    }\n",
       "</style>\n",
       "<table border=\"1\" class=\"dataframe\">\n",
       "  <thead>\n",
       "    <tr style=\"text-align: right;\">\n",
       "      <th></th>\n",
       "      <th>Date</th>\n",
       "      <th>High</th>\n",
       "      <th>Low</th>\n",
       "      <th>Open</th>\n",
       "      <th>Close</th>\n",
       "      <th>Volume</th>\n",
       "      <th>Adj Close</th>\n",
       "    </tr>\n",
       "  </thead>\n",
       "  <tbody>\n",
       "    <tr>\n",
       "      <th>0</th>\n",
       "      <td>2014-09-17</td>\n",
       "      <td>468.174011</td>\n",
       "      <td>452.421997</td>\n",
       "      <td>465.864014</td>\n",
       "      <td>457.334015</td>\n",
       "      <td>21056800</td>\n",
       "      <td>457.334015</td>\n",
       "    </tr>\n",
       "    <tr>\n",
       "      <th>1</th>\n",
       "      <td>2014-09-18</td>\n",
       "      <td>456.859985</td>\n",
       "      <td>413.104004</td>\n",
       "      <td>456.859985</td>\n",
       "      <td>424.440002</td>\n",
       "      <td>34483200</td>\n",
       "      <td>424.440002</td>\n",
       "    </tr>\n",
       "    <tr>\n",
       "      <th>2</th>\n",
       "      <td>2014-09-19</td>\n",
       "      <td>427.834991</td>\n",
       "      <td>384.532013</td>\n",
       "      <td>424.102997</td>\n",
       "      <td>394.795990</td>\n",
       "      <td>37919700</td>\n",
       "      <td>394.795990</td>\n",
       "    </tr>\n",
       "    <tr>\n",
       "      <th>3</th>\n",
       "      <td>2014-09-20</td>\n",
       "      <td>423.295990</td>\n",
       "      <td>389.882996</td>\n",
       "      <td>394.673004</td>\n",
       "      <td>408.903992</td>\n",
       "      <td>36863600</td>\n",
       "      <td>408.903992</td>\n",
       "    </tr>\n",
       "    <tr>\n",
       "      <th>4</th>\n",
       "      <td>2014-09-21</td>\n",
       "      <td>412.425995</td>\n",
       "      <td>393.181000</td>\n",
       "      <td>408.084991</td>\n",
       "      <td>398.821014</td>\n",
       "      <td>26580100</td>\n",
       "      <td>398.821014</td>\n",
       "    </tr>\n",
       "  </tbody>\n",
       "</table>\n",
       "</div>"
      ],
      "text/plain": [
       "         Date        High         Low        Open       Close    Volume  \\\n",
       "0  2014-09-17  468.174011  452.421997  465.864014  457.334015  21056800   \n",
       "1  2014-09-18  456.859985  413.104004  456.859985  424.440002  34483200   \n",
       "2  2014-09-19  427.834991  384.532013  424.102997  394.795990  37919700   \n",
       "3  2014-09-20  423.295990  389.882996  394.673004  408.903992  36863600   \n",
       "4  2014-09-21  412.425995  393.181000  408.084991  398.821014  26580100   \n",
       "\n",
       "    Adj Close  \n",
       "0  457.334015  \n",
       "1  424.440002  \n",
       "2  394.795990  \n",
       "3  408.903992  \n",
       "4  398.821014  "
      ]
     },
     "execution_count": 2,
     "metadata": {},
     "output_type": "execute_result"
    }
   ],
   "source": [
    "df = pd.read_csv(\"./data/BTC-USD.csv\")\n",
    "df.head()"
   ]
  },
  {
   "cell_type": "code",
   "execution_count": 3,
   "metadata": {},
   "outputs": [],
   "source": [
    "# deleting first column\n",
    "\n",
    "# 1)\n",
    "df.drop(columns=df.columns[0], axis=1, inplace=True)\n",
    "# 2)\n",
    "df = df.iloc[: , 1:]\n",
    "# 3)\n",
    "del df[df.columns[0]]"
   ]
  },
  {
   "cell_type": "code",
   "execution_count": 4,
   "metadata": {},
   "outputs": [
    {
     "data": {
      "text/html": [
       "<div>\n",
       "<style scoped>\n",
       "    .dataframe tbody tr th:only-of-type {\n",
       "        vertical-align: middle;\n",
       "    }\n",
       "\n",
       "    .dataframe tbody tr th {\n",
       "        vertical-align: top;\n",
       "    }\n",
       "\n",
       "    .dataframe thead th {\n",
       "        text-align: right;\n",
       "    }\n",
       "</style>\n",
       "<table border=\"1\" class=\"dataframe\">\n",
       "  <thead>\n",
       "    <tr style=\"text-align: right;\">\n",
       "      <th></th>\n",
       "      <th>Open</th>\n",
       "      <th>Close</th>\n",
       "      <th>Volume</th>\n",
       "      <th>Adj Close</th>\n",
       "    </tr>\n",
       "  </thead>\n",
       "  <tbody>\n",
       "    <tr>\n",
       "      <th>0</th>\n",
       "      <td>465.864014</td>\n",
       "      <td>457.334015</td>\n",
       "      <td>21056800</td>\n",
       "      <td>457.334015</td>\n",
       "    </tr>\n",
       "    <tr>\n",
       "      <th>1</th>\n",
       "      <td>456.859985</td>\n",
       "      <td>424.440002</td>\n",
       "      <td>34483200</td>\n",
       "      <td>424.440002</td>\n",
       "    </tr>\n",
       "    <tr>\n",
       "      <th>2</th>\n",
       "      <td>424.102997</td>\n",
       "      <td>394.795990</td>\n",
       "      <td>37919700</td>\n",
       "      <td>394.795990</td>\n",
       "    </tr>\n",
       "    <tr>\n",
       "      <th>3</th>\n",
       "      <td>394.673004</td>\n",
       "      <td>408.903992</td>\n",
       "      <td>36863600</td>\n",
       "      <td>408.903992</td>\n",
       "    </tr>\n",
       "    <tr>\n",
       "      <th>4</th>\n",
       "      <td>408.084991</td>\n",
       "      <td>398.821014</td>\n",
       "      <td>26580100</td>\n",
       "      <td>398.821014</td>\n",
       "    </tr>\n",
       "    <tr>\n",
       "      <th>...</th>\n",
       "      <td>...</td>\n",
       "      <td>...</td>\n",
       "      <td>...</td>\n",
       "      <td>...</td>\n",
       "    </tr>\n",
       "    <tr>\n",
       "      <th>2647</th>\n",
       "      <td>48900.464844</td>\n",
       "      <td>47665.425781</td>\n",
       "      <td>27268150947</td>\n",
       "      <td>47665.425781</td>\n",
       "    </tr>\n",
       "    <tr>\n",
       "      <th>2648</th>\n",
       "      <td>47653.730469</td>\n",
       "      <td>46202.144531</td>\n",
       "      <td>32902725329</td>\n",
       "      <td>46202.144531</td>\n",
       "    </tr>\n",
       "    <tr>\n",
       "      <th>2649</th>\n",
       "      <td>46219.253906</td>\n",
       "      <td>46848.777344</td>\n",
       "      <td>26098292690</td>\n",
       "      <td>46848.777344</td>\n",
       "    </tr>\n",
       "    <tr>\n",
       "      <th>2650</th>\n",
       "      <td>46853.867188</td>\n",
       "      <td>46707.015625</td>\n",
       "      <td>25154053861</td>\n",
       "      <td>46707.015625</td>\n",
       "    </tr>\n",
       "    <tr>\n",
       "      <th>2651</th>\n",
       "      <td>46707.062500</td>\n",
       "      <td>46880.277344</td>\n",
       "      <td>30961902129</td>\n",
       "      <td>46880.277344</td>\n",
       "    </tr>\n",
       "  </tbody>\n",
       "</table>\n",
       "<p>2652 rows × 4 columns</p>\n",
       "</div>"
      ],
      "text/plain": [
       "              Open         Close       Volume     Adj Close\n",
       "0       465.864014    457.334015     21056800    457.334015\n",
       "1       456.859985    424.440002     34483200    424.440002\n",
       "2       424.102997    394.795990     37919700    394.795990\n",
       "3       394.673004    408.903992     36863600    408.903992\n",
       "4       408.084991    398.821014     26580100    398.821014\n",
       "...            ...           ...          ...           ...\n",
       "2647  48900.464844  47665.425781  27268150947  47665.425781\n",
       "2648  47653.730469  46202.144531  32902725329  46202.144531\n",
       "2649  46219.253906  46848.777344  26098292690  46848.777344\n",
       "2650  46853.867188  46707.015625  25154053861  46707.015625\n",
       "2651  46707.062500  46880.277344  30961902129  46880.277344\n",
       "\n",
       "[2652 rows x 4 columns]"
      ]
     },
     "execution_count": 4,
     "metadata": {},
     "output_type": "execute_result"
    }
   ],
   "source": [
    "# remove Index column\n",
    "df.reset_index(drop=True)"
   ]
  },
  {
   "cell_type": "code",
   "execution_count": 5,
   "metadata": {},
   "outputs": [
    {
     "data": {
      "text/html": [
       "<div>\n",
       "<style scoped>\n",
       "    .dataframe tbody tr th:only-of-type {\n",
       "        vertical-align: middle;\n",
       "    }\n",
       "\n",
       "    .dataframe tbody tr th {\n",
       "        vertical-align: top;\n",
       "    }\n",
       "\n",
       "    .dataframe thead th {\n",
       "        text-align: right;\n",
       "    }\n",
       "</style>\n",
       "<table border=\"1\" class=\"dataframe\">\n",
       "  <thead>\n",
       "    <tr style=\"text-align: right;\">\n",
       "      <th></th>\n",
       "      <th>Unnamed: 0</th>\n",
       "      <th>open</th>\n",
       "      <th>high</th>\n",
       "      <th>low</th>\n",
       "      <th>close</th>\n",
       "      <th>volume</th>\n",
       "      <th>value</th>\n",
       "    </tr>\n",
       "  </thead>\n",
       "  <tbody>\n",
       "    <tr>\n",
       "      <th>0</th>\n",
       "      <td>2022-10-03 18:00:00</td>\n",
       "      <td>27863000.0</td>\n",
       "      <td>27869000.0</td>\n",
       "      <td>27765000.0</td>\n",
       "      <td>27816000.0</td>\n",
       "      <td>107.440733</td>\n",
       "      <td>2.987476e+09</td>\n",
       "    </tr>\n",
       "    <tr>\n",
       "      <th>1</th>\n",
       "      <td>2022-10-03 19:00:00</td>\n",
       "      <td>27816000.0</td>\n",
       "      <td>27901000.0</td>\n",
       "      <td>27785000.0</td>\n",
       "      <td>27880000.0</td>\n",
       "      <td>125.624060</td>\n",
       "      <td>3.499568e+09</td>\n",
       "    </tr>\n",
       "    <tr>\n",
       "      <th>2</th>\n",
       "      <td>2022-10-03 20:00:00</td>\n",
       "      <td>27887000.0</td>\n",
       "      <td>27920000.0</td>\n",
       "      <td>27848000.0</td>\n",
       "      <td>27900000.0</td>\n",
       "      <td>92.692740</td>\n",
       "      <td>2.584514e+09</td>\n",
       "    </tr>\n",
       "    <tr>\n",
       "      <th>3</th>\n",
       "      <td>2022-10-03 21:00:00</td>\n",
       "      <td>27901000.0</td>\n",
       "      <td>27933000.0</td>\n",
       "      <td>27846000.0</td>\n",
       "      <td>27902000.0</td>\n",
       "      <td>109.033327</td>\n",
       "      <td>3.041022e+09</td>\n",
       "    </tr>\n",
       "    <tr>\n",
       "      <th>4</th>\n",
       "      <td>2022-10-03 22:00:00</td>\n",
       "      <td>27920000.0</td>\n",
       "      <td>27986000.0</td>\n",
       "      <td>27776000.0</td>\n",
       "      <td>27838000.0</td>\n",
       "      <td>286.737056</td>\n",
       "      <td>7.995750e+09</td>\n",
       "    </tr>\n",
       "  </tbody>\n",
       "</table>\n",
       "</div>"
      ],
      "text/plain": [
       "            Unnamed: 0        open        high         low       close  \\\n",
       "0  2022-10-03 18:00:00  27863000.0  27869000.0  27765000.0  27816000.0   \n",
       "1  2022-10-03 19:00:00  27816000.0  27901000.0  27785000.0  27880000.0   \n",
       "2  2022-10-03 20:00:00  27887000.0  27920000.0  27848000.0  27900000.0   \n",
       "3  2022-10-03 21:00:00  27901000.0  27933000.0  27846000.0  27902000.0   \n",
       "4  2022-10-03 22:00:00  27920000.0  27986000.0  27776000.0  27838000.0   \n",
       "\n",
       "       volume         value  \n",
       "0  107.440733  2.987476e+09  \n",
       "1  125.624060  3.499568e+09  \n",
       "2   92.692740  2.584514e+09  \n",
       "3  109.033327  3.041022e+09  \n",
       "4  286.737056  7.995750e+09  "
      ]
     },
     "execution_count": 5,
     "metadata": {},
     "output_type": "execute_result"
    }
   ],
   "source": [
    "df = pd.read_csv(\"./data/ORG_KRW_BTC.csv\")\n",
    "df.head()"
   ]
  },
  {
   "cell_type": "code",
   "execution_count": 6,
   "metadata": {},
   "outputs": [
    {
     "data": {
      "text/html": [
       "<div>\n",
       "<style scoped>\n",
       "    .dataframe tbody tr th:only-of-type {\n",
       "        vertical-align: middle;\n",
       "    }\n",
       "\n",
       "    .dataframe tbody tr th {\n",
       "        vertical-align: top;\n",
       "    }\n",
       "\n",
       "    .dataframe thead th {\n",
       "        text-align: right;\n",
       "    }\n",
       "</style>\n",
       "<table border=\"1\" class=\"dataframe\">\n",
       "  <thead>\n",
       "    <tr style=\"text-align: right;\">\n",
       "      <th></th>\n",
       "      <th>Unnamed: 0</th>\n",
       "      <th>open</th>\n",
       "      <th>high</th>\n",
       "      <th>low</th>\n",
       "      <th>close</th>\n",
       "      <th>volume</th>\n",
       "      <th>value</th>\n",
       "      <th>close_diff</th>\n",
       "    </tr>\n",
       "  </thead>\n",
       "  <tbody>\n",
       "    <tr>\n",
       "      <th>0</th>\n",
       "      <td>2022-10-03 18:00:00</td>\n",
       "      <td>27863000.0</td>\n",
       "      <td>27869000.0</td>\n",
       "      <td>27765000.0</td>\n",
       "      <td>27816000.0</td>\n",
       "      <td>107.440733</td>\n",
       "      <td>2.987476e+09</td>\n",
       "      <td>NaN</td>\n",
       "    </tr>\n",
       "    <tr>\n",
       "      <th>1</th>\n",
       "      <td>2022-10-03 19:00:00</td>\n",
       "      <td>27816000.0</td>\n",
       "      <td>27901000.0</td>\n",
       "      <td>27785000.0</td>\n",
       "      <td>27880000.0</td>\n",
       "      <td>125.624060</td>\n",
       "      <td>3.499568e+09</td>\n",
       "      <td>0.229555</td>\n",
       "    </tr>\n",
       "    <tr>\n",
       "      <th>2</th>\n",
       "      <td>2022-10-03 20:00:00</td>\n",
       "      <td>27887000.0</td>\n",
       "      <td>27920000.0</td>\n",
       "      <td>27848000.0</td>\n",
       "      <td>27900000.0</td>\n",
       "      <td>92.692740</td>\n",
       "      <td>2.584514e+09</td>\n",
       "      <td>0.071685</td>\n",
       "    </tr>\n",
       "    <tr>\n",
       "      <th>3</th>\n",
       "      <td>2022-10-03 21:00:00</td>\n",
       "      <td>27901000.0</td>\n",
       "      <td>27933000.0</td>\n",
       "      <td>27846000.0</td>\n",
       "      <td>27902000.0</td>\n",
       "      <td>109.033327</td>\n",
       "      <td>3.041022e+09</td>\n",
       "      <td>0.007168</td>\n",
       "    </tr>\n",
       "    <tr>\n",
       "      <th>4</th>\n",
       "      <td>2022-10-03 22:00:00</td>\n",
       "      <td>27920000.0</td>\n",
       "      <td>27986000.0</td>\n",
       "      <td>27776000.0</td>\n",
       "      <td>27838000.0</td>\n",
       "      <td>286.737056</td>\n",
       "      <td>7.995750e+09</td>\n",
       "      <td>-0.229902</td>\n",
       "    </tr>\n",
       "  </tbody>\n",
       "</table>\n",
       "</div>"
      ],
      "text/plain": [
       "            Unnamed: 0        open        high         low       close  \\\n",
       "0  2022-10-03 18:00:00  27863000.0  27869000.0  27765000.0  27816000.0   \n",
       "1  2022-10-03 19:00:00  27816000.0  27901000.0  27785000.0  27880000.0   \n",
       "2  2022-10-03 20:00:00  27887000.0  27920000.0  27848000.0  27900000.0   \n",
       "3  2022-10-03 21:00:00  27901000.0  27933000.0  27846000.0  27902000.0   \n",
       "4  2022-10-03 22:00:00  27920000.0  27986000.0  27776000.0  27838000.0   \n",
       "\n",
       "       volume         value  close_diff  \n",
       "0  107.440733  2.987476e+09         NaN  \n",
       "1  125.624060  3.499568e+09    0.229555  \n",
       "2   92.692740  2.584514e+09    0.071685  \n",
       "3  109.033327  3.041022e+09    0.007168  \n",
       "4  286.737056  7.995750e+09   -0.229902  "
      ]
     },
     "execution_count": 6,
     "metadata": {},
     "output_type": "execute_result"
    }
   ],
   "source": [
    "df[\"close_diff\"] = (df.close - df.close.shift(1))/df.close*100\n",
    "df.head()"
   ]
  },
  {
   "cell_type": "code",
   "execution_count": 7,
   "metadata": {},
   "outputs": [
    {
     "data": {
      "text/plain": [
       "0    27863000.0\n",
       "1    27816000.0\n",
       "2    27887000.0\n",
       "3    27901000.0\n",
       "4    27920000.0\n",
       "Name: open, dtype: float64"
      ]
     },
     "execution_count": 7,
     "metadata": {},
     "output_type": "execute_result"
    }
   ],
   "source": [
    "df.open[:5]"
   ]
  },
  {
   "cell_type": "code",
   "execution_count": 8,
   "metadata": {},
   "outputs": [
    {
     "data": {
      "text/plain": [
       "0    27816000.0\n",
       "1    27880000.0\n",
       "2    27900000.0\n",
       "3    27902000.0\n",
       "4    27838000.0\n",
       "Name: close, dtype: float64"
      ]
     },
     "execution_count": 8,
     "metadata": {},
     "output_type": "execute_result"
    }
   ],
   "source": [
    "df.close[:5]"
   ]
  },
  {
   "cell_type": "code",
   "execution_count": 9,
   "metadata": {},
   "outputs": [
    {
     "data": {
      "text/plain": [
       "0         NaN\n",
       "1    1.000000\n",
       "2    1.000251\n",
       "3    1.000036\n",
       "4    1.000645\n",
       "dtype: float64"
      ]
     },
     "execution_count": 9,
     "metadata": {},
     "output_type": "execute_result"
    }
   ],
   "source": [
    "open_lastclose_ratio = df.open / df.close.shift(1)\n",
    "open_lastclose_ratio[:5]"
   ]
  },
  {
   "cell_type": "code",
   "execution_count": 10,
   "metadata": {},
   "outputs": [],
   "source": [
    "df[\"open_lastclose_ratio\"] = df.open / df.close.shift(1)\n",
    "df[\"high_close_ratio\"] = df.high / df.close\n",
    "df[\"low_close_ratio\"] = df.low / df.close\n",
    "df[\"diffratio\"] = df.close / df.close.shift(1)\n",
    "df[\"volume_lastvolume_ratio\"] = df.volume / df.volume.shift(1)\n",
    "df[\"ma5\"] = ta.SMA(df.close.to_numpy(), 5)\n",
    "df[\"ma10\"] = ta.SMA(df.close.to_numpy(), 10)\n",
    "df[\"ma20\"] = ta.SMA(df.close.to_numpy(), 20)\n",
    "df[\"ma60\"] = ta.SMA(df.close.to_numpy(), 60)\n",
    "df[\"ma120\"] = ta.SMA(df.close.to_numpy(), 120)\n",
    "df[\"vma5\"] = ta.SMA(df.volume.to_numpy(), 5)\n",
    "df[\"vma10\"] = ta.SMA(df.volume.to_numpy(), 10)\n",
    "df[\"vma20\"] = ta.SMA(df.volume.to_numpy(), 20)\n",
    "df[\"vma60\"] = ta.SMA(df.volume.to_numpy(), 60)\n",
    "df[\"vma120\"] = ta.SMA(df.volume.to_numpy(), 120)\n",
    "df[\"close_ma5_ratio\"] = df.ma5 / df.close\n",
    "df[\"close_ma10_ratio\"] = df.ma10 / df.close\n",
    "df[\"close_ma20_ratio\"] = df.ma20 / df.close\n",
    "df[\"close_ma60_ratio\"] = df.ma60 / df.close\n",
    "df[\"close_ma120_ratio\"] = df.ma120 / df.close\n",
    "df[\"volume_vma5_ratio\"] = df.vma5 / df.volume\n",
    "df[\"volume_vma10_ratio\"] = df.vma10 / df.volume\n",
    "df[\"volume_vma20_ratio\"] = df.vma20 / df.volume\n",
    "df[\"volume_vma60_ratio\"] = df.vma60 / df.volume\n",
    "df[\"volume_vma120_ratio\"] = df.vma120 / df.volume"
   ]
  },
  {
   "cell_type": "code",
   "execution_count": 11,
   "metadata": {},
   "outputs": [],
   "source": [
    "import matplotlib.pyplot as plt"
   ]
  },
  {
   "cell_type": "code",
   "execution_count": 12,
   "metadata": {},
   "outputs": [],
   "source": [
    "df.dropna(axis=0, inplace=True)"
   ]
  },
  {
   "cell_type": "code",
   "execution_count": 13,
   "metadata": {},
   "outputs": [
    {
     "data": {
      "text/plain": [
       "<AxesSubplot: >"
      ]
     },
     "execution_count": 13,
     "metadata": {},
     "output_type": "execute_result"
    },
    {
     "data": {
      "image/png": "[encoded data removed]",
      "text/plain": [
       "<Figure size 640x480 with 1 Axes>"
      ]
     },
     "metadata": {},
     "output_type": "display_data"
    }
   ],
   "source": [
    "df.close_diff.hist()"
   ]
  },
  {
   "cell_type": "code",
   "execution_count": 14,
   "metadata": {},
   "outputs": [
    {
     "data": {
      "text/plain": [
       "count    1881.000000\n",
       "mean       -0.013998\n",
       "std         0.459171\n",
       "min        -4.299760\n",
       "25%        -0.149560\n",
       "50%        -0.003571\n",
       "75%         0.136333\n",
       "max         5.187518\n",
       "Name: close_diff, dtype: float64"
      ]
     },
     "execution_count": 14,
     "metadata": {},
     "output_type": "execute_result"
    }
   ],
   "source": [
    "df.close_diff.describe()"
   ]
  },
  {
   "cell_type": "code",
   "execution_count": 15,
   "metadata": {},
   "outputs": [
    {
     "data": {
      "text/plain": [
       "<AxesSubplot: >"
      ]
     },
     "execution_count": 15,
     "metadata": {},
     "output_type": "execute_result"
    },
    {
     "data": {
      "image/png": "[encoded data removed]",
      "text/plain": [
       "<Figure size 640x480 with 1 Axes>"
      ]
     },
     "metadata": {},
     "output_type": "display_data"
    }
   ],
   "source": [
    "df.close_diff.plot()"
   ]
  },
  {
   "cell_type": "code",
   "execution_count": 16,
   "metadata": {},
   "outputs": [
    {
     "data": {
      "text/plain": [
       "-0.013997867845851398"
      ]
     },
     "execution_count": 16,
     "metadata": {},
     "output_type": "execute_result"
    }
   ],
   "source": [
    "df.close_diff.mean()"
   ]
  },
  {
   "cell_type": "code",
   "execution_count": 17,
   "metadata": {},
   "outputs": [
    {
     "data": {
      "text/plain": [
       "797"
      ]
     },
     "execution_count": 17,
     "metadata": {},
     "output_type": "execute_result"
    }
   ],
   "source": [
    "df.close_diff.argmax()"
   ]
  },
  {
   "cell_type": "code",
   "execution_count": 18,
   "metadata": {},
   "outputs": [
    {
     "name": "stdout",
     "output_type": "stream",
     "text": [
      "-0.14956001530381552\n",
      "0.136332651670075\n",
      "0.002858926669738905\n"
     ]
    }
   ],
   "source": [
    "Q3 = df.close_diff.quantile(.75)\n",
    "Q1 = df.close_diff.quantile(.25)\n",
    "print(Q1)\n",
    "print(Q3)\n",
    "print((Q3-Q1)/100)"
   ]
  },
  {
   "cell_type": "code",
   "execution_count": 19,
   "metadata": {},
   "outputs": [
    {
     "data": {
      "text/plain": [
       "120     0.122276\n",
       "121    -0.035976\n",
       "122     0.118581\n",
       "123     0.000000\n",
       "124    -0.010781\n",
       "          ...   \n",
       "1995    0.141669\n",
       "1996   -0.132705\n",
       "1997   -0.004576\n",
       "1998   -0.091609\n",
       "1999   -0.064167\n",
       "Name: close, Length: 1880, dtype: float64"
      ]
     },
     "execution_count": 19,
     "metadata": {},
     "output_type": "execute_result"
    }
   ],
   "source": [
    "close_diff = (df.close - df.close.shift(1))/df.close*100\n",
    "close_diff.dropna()"
   ]
  },
  {
   "cell_type": "code",
   "execution_count": 20,
   "metadata": {},
   "outputs": [
    {
     "data": {
      "text/plain": [
       "3.3333333333333335"
      ]
     },
     "execution_count": 20,
     "metadata": {},
     "output_type": "execute_result"
    }
   ],
   "source": [
    "0.001 / 0.0003"
   ]
  },
  {
   "cell_type": "code",
   "execution_count": null,
   "metadata": {},
   "outputs": [],
   "source": []
  }
 ],
 "metadata": {
  "kernelspec": {
   "display_name": "rfst_t",
   "language": "python",
   "name": "python3"
  },
  "language_info": {
   "codemirror_mode": {
    "name": "ipython",
    "version": 3
   },
   "file_extension": ".py",
   "mimetype": "text/x-python",
   "name": "python",
   "nbconvert_exporter": "python",
   "pygments_lexer": "ipython3",
   "version": "3.9.15"
  },
  "orig_nbformat": 4,
  "vscode": {
   "interpreter": {
    "hash": "3e4823117f93f00a7b6bdbefc9a339df58f80d4cf0b1bc9547a043f3d2ea1104"
   }
  }
 },
 "nbformat": 4,
 "nbformat_minor": 2
}
